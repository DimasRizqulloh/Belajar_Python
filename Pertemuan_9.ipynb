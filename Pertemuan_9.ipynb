{
 "cells": [
  {
   "cell_type": "markdown",
   "id": "dd0d798f-c80d-459d-bf2d-186a63d74c8d",
   "metadata": {},
   "source": [
    "# Belajar Python Tekom F 24 #"
   ]
  },
  {
   "cell_type": "markdown",
   "id": "ba052894-86fc-41c3-8ffb-2ba76f6e07b3",
   "metadata": {},
   "source": [
    "## Python Comments"
   ]
  },
  {
   "cell_type": "code",
   "execution_count": 1,
   "id": "136fdba2-e35e-4f46-b512-8c48e2a27960",
   "metadata": {},
   "outputs": [
    {
     "name": "stdout",
     "output_type": "stream",
     "text": [
      "Hello, World!\n"
     ]
    }
   ],
   "source": [
    "#This is a comment\n",
    "print(\"Hello, World!\")"
   ]
  },
  {
   "cell_type": "code",
   "execution_count": 2,
   "id": "8a85671b-fd0e-417c-8f32-8f7e85dcd4c9",
   "metadata": {},
   "outputs": [
    {
     "name": "stdout",
     "output_type": "stream",
     "text": [
      "Hello, World!\n"
     ]
    }
   ],
   "source": [
    "print(\"Hello, World!\") #This is a comment"
   ]
  },
  {
   "cell_type": "code",
   "execution_count": 3,
   "id": "a9b3166b-e9dd-4513-b69d-9c4b9cdc788e",
   "metadata": {},
   "outputs": [
    {
     "name": "stdout",
     "output_type": "stream",
     "text": [
      "Cheers, Mate!\n"
     ]
    }
   ],
   "source": [
    "#print(\"Hello, World!\")\n",
    "print(\"Cheers, Mate!\")"
   ]
  },
  {
   "cell_type": "markdown",
   "id": "33648f0c-67d6-4970-a0d7-9f223fadc2f3",
   "metadata": {},
   "source": [
    "#### Analisis\n",
    "\n",
    "Percobaan membuat comment yang benar"
   ]
  },
  {
   "cell_type": "code",
   "execution_count": 4,
   "id": "547ec651-8556-4ed5-8631-bfd7be569623",
   "metadata": {},
   "outputs": [
    {
     "name": "stdout",
     "output_type": "stream",
     "text": [
      "Hello, World!\n"
     ]
    }
   ],
   "source": [
    "#This is a comment\n",
    "#written in\n",
    "#more than just one line\n",
    "print(\"Hello, World!\")"
   ]
  },
  {
   "cell_type": "markdown",
   "id": "2b46b2f5-34f9-4c89-9165-617be1041e6b",
   "metadata": {},
   "source": [
    "#### Analisis\n",
    "\n",
    "Menggunakan multiple comment"
   ]
  },
  {
   "cell_type": "code",
   "execution_count": 5,
   "id": "77cc5438-0d19-4539-88cd-f44fa403cb6c",
   "metadata": {},
   "outputs": [
    {
     "name": "stdout",
     "output_type": "stream",
     "text": [
      "Hello, World!\n"
     ]
    }
   ],
   "source": [
    "\"\"\"\n",
    "This is a comment\n",
    "written in\n",
    "more than just one line\n",
    "\"\"\"\n",
    "print(\"Hello, World!\")"
   ]
  },
  {
   "cell_type": "markdown",
   "id": "f73ef83f-c90a-4934-8bcf-de709a2f4509",
   "metadata": {},
   "source": [
    "#### Analisis\n",
    "\n",
    "Menggunakan comment yang lebih banyak line nya"
   ]
  },
  {
   "cell_type": "markdown",
   "id": "3722814c-471c-4ded-996b-4bbac9b4df61",
   "metadata": {},
   "source": [
    "## Python Variables"
   ]
  },
  {
   "cell_type": "code",
   "execution_count": 6,
   "id": "78cf8a0b-a200-45ee-ae42-47dba3fc8182",
   "metadata": {},
   "outputs": [
    {
     "name": "stdout",
     "output_type": "stream",
     "text": [
      "5\n",
      "John\n"
     ]
    }
   ],
   "source": [
    "x = 5\n",
    "y = \"John\"\n",
    "print(x)\n",
    "print(y)"
   ]
  },
  {
   "cell_type": "markdown",
   "id": "baf475b5-9c57-4534-86dd-fe6e76fde41e",
   "metadata": {},
   "source": [
    "#### Analisis\n",
    "\n",
    "Membuat variable x dan y, yang bertipe int dan str yang berisi (5 dan \"John\") dan menampilkannya"
   ]
  },
  {
   "cell_type": "code",
   "execution_count": 7,
   "id": "c87a9a1d-a3f0-4e95-b6a9-1da031dd4a1a",
   "metadata": {},
   "outputs": [
    {
     "name": "stdout",
     "output_type": "stream",
     "text": [
      "Sally\n"
     ]
    }
   ],
   "source": [
    "x = 4       # x is of type int\n",
    "x = \"Sally\" # x is now of type str\n",
    "print(x)"
   ]
  },
  {
   "cell_type": "markdown",
   "id": "5595a7a5-f6b1-47e2-a4d5-d483eddcef56",
   "metadata": {},
   "source": [
    "#### Analisis\n",
    "\n",
    "Menimpa variable x yang bertipe int berubah menjadi str dengan nilai \"Sally\""
   ]
  },
  {
   "cell_type": "code",
   "execution_count": 1,
   "id": "72211c69-9a2e-42c2-85c3-75d6efaaea21",
   "metadata": {},
   "outputs": [],
   "source": [
    "x = str(3)    # x will be '3'\n",
    "y = int(3)    # y will be 3\n",
    "z = float(3)  # z will be 3.0"
   ]
  },
  {
   "cell_type": "markdown",
   "id": "43aaab64-f5d6-4811-adc5-0f1a52ce5ce0",
   "metadata": {},
   "source": [
    "#### Analisis\n",
    "Jika Anda ingin menentukan tipe data suatu variabel, ini dapat dilakukan dengan casting."
   ]
  },
  {
   "cell_type": "markdown",
   "id": "7605936d-53f5-471e-a86d-02bb2f51f883",
   "metadata": {},
   "source": [
    "## Python Names"
   ]
  },
  {
   "cell_type": "code",
   "execution_count": 2,
   "id": "ca17e001-373e-41a3-ae5a-df7c73710c94",
   "metadata": {},
   "outputs": [],
   "source": [
    "myvar = \"John\"\n",
    "my_var = \"John\"\n",
    "_my_var = \"John\"\n",
    "myVar = \"John\"\n",
    "MYVAR = \"John\"\n",
    "myvar2 = \"John\""
   ]
  },
  {
   "cell_type": "markdown",
   "id": "c34b699a-e3e0-4bf1-afdf-fec82d560595",
   "metadata": {},
   "source": [
    "#### Analisis\n",
    "Nama variabel yang benar"
   ]
  },
  {
   "cell_type": "markdown",
   "id": "c8e3598f-dfad-426b-9aef-e788831d34d9",
   "metadata": {},
   "source": [
    "## Python Multiple Values"
   ]
  },
  {
   "cell_type": "code",
   "execution_count": 5,
   "id": "67483ede-6990-48dd-949d-ec0579398ffe",
   "metadata": {},
   "outputs": [
    {
     "name": "stdout",
     "output_type": "stream",
     "text": [
      "Orange\n",
      "Banana\n",
      "Cherry\n"
     ]
    }
   ],
   "source": [
    "x, y, z = \"Orange\", \"Banana\", \"Cherry\"\n",
    "print(x)\n",
    "print(y)\n",
    "print(z)"
   ]
  },
  {
   "cell_type": "markdown",
   "id": "4615375e-f141-4575-ab51-af1460667e01",
   "metadata": {},
   "source": [
    "#### Analisis\n",
    "Python memungkinkan Anda menetapkan nilai ke beberapa variabel dalam satu baris"
   ]
  },
  {
   "cell_type": "code",
   "execution_count": 6,
   "id": "db4168c4-b1fb-4364-8630-a5fad4ecfe43",
   "metadata": {},
   "outputs": [
    {
     "name": "stdout",
     "output_type": "stream",
     "text": [
      "Orange\n",
      "Orange\n",
      "Orange\n"
     ]
    }
   ],
   "source": [
    "x = y = z = \"Orange\"\n",
    "print(x)\n",
    "print(y)\n",
    "print(z)"
   ]
  },
  {
   "cell_type": "markdown",
   "id": "69d2d11c-7adb-4746-ab1c-d7502099601b",
   "metadata": {},
   "source": [
    "#### Analisis\n",
    "Dan Anda dapat menetapkan nilai yang sama ke beberapa variabel dalam satu baris"
   ]
  },
  {
   "cell_type": "code",
   "execution_count": 7,
   "id": "1fb6c531-1693-42d0-8440-b88d166a0bde",
   "metadata": {},
   "outputs": [
    {
     "name": "stdout",
     "output_type": "stream",
     "text": [
      "apple\n",
      "banana\n",
      "cherry\n"
     ]
    }
   ],
   "source": [
    "fruits = [\"apple\", \"banana\", \"cherry\"]\n",
    "x, y, z = fruits\n",
    "print(x)\n",
    "print(y)\n",
    "print(z)"
   ]
  },
  {
   "cell_type": "markdown",
   "id": "6f1b4415-f927-490a-a308-3eab1c04f52f",
   "metadata": {},
   "source": [
    "#### Analisis\n",
    "Jika Anda memiliki sekumpulan nilai dalam bentuk daftar, tupel, dll., Python memungkinkan Anda untuk mengekstrak nilai-nilai tersebut ke dalam variabel. Proses ini disebut unpacking."
   ]
  },
  {
   "cell_type": "markdown",
   "id": "e298ed4d-6961-4875-9443-d409b4771ba5",
   "metadata": {},
   "source": [
    "## Output Variables"
   ]
  },
  {
   "cell_type": "code",
   "execution_count": 8,
   "id": "a5f3c91d-48e2-4f1e-aef7-51860fe509cb",
   "metadata": {},
   "outputs": [
    {
     "name": "stdout",
     "output_type": "stream",
     "text": [
      "Python is awesome\n"
     ]
    }
   ],
   "source": [
    "x = \"Python is awesome\"\n",
    "print(x)"
   ]
  },
  {
   "cell_type": "markdown",
   "id": "11300dc1-72f3-4780-8e46-f33b657cb06a",
   "metadata": {},
   "source": [
    "#### Analisis\n",
    "Fungsi print() sering digunakan untuk mengeluarkan variabel."
   ]
  },
  {
   "cell_type": "code",
   "execution_count": 9,
   "id": "4c6ce4d9-84e3-4765-8240-03845b3a42e6",
   "metadata": {},
   "outputs": [
    {
     "name": "stdout",
     "output_type": "stream",
     "text": [
      "Python is awesome\n"
     ]
    }
   ],
   "source": [
    "x = \"Python\"\n",
    "y = \"is\"\n",
    "z = \"awesome\"\n",
    "print(x, y, z)"
   ]
  },
  {
   "cell_type": "markdown",
   "id": "2f0ea2e2-37d6-4250-b2fa-819ca8014c68",
   "metadata": {},
   "source": [
    "#### Analisis\n",
    "Dalam fungsi print(), Anda mengeluarkan beberapa variabel, dipisahkan dengan koma."
   ]
  },
  {
   "cell_type": "code",
   "execution_count": 10,
   "id": "c49b2eb2-75d0-4670-b47d-85f9fd6b88ca",
   "metadata": {},
   "outputs": [
    {
     "name": "stdout",
     "output_type": "stream",
     "text": [
      "Python is awesome\n"
     ]
    }
   ],
   "source": [
    "x = \"Python \"\n",
    "y = \"is \"\n",
    "z = \"awesome\"\n",
    "print(x + y + z)"
   ]
  },
  {
   "cell_type": "markdown",
   "id": "552b18ac-f17e-4ea9-8242-6eff561cc932",
   "metadata": {},
   "source": [
    "#### Analisis\n",
    "Anda juga dapat menggunakan operator + untuk mengeluarkan beberapa variabel"
   ]
  },
  {
   "cell_type": "code",
   "execution_count": 11,
   "id": "ef2783f0-3778-44b9-aafb-ef0e311f75d0",
   "metadata": {},
   "outputs": [
    {
     "name": "stdout",
     "output_type": "stream",
     "text": [
      "15\n"
     ]
    }
   ],
   "source": [
    "x = 5\n",
    "y = 10\n",
    "print(x + y)"
   ]
  },
  {
   "cell_type": "markdown",
   "id": "40acb6b1-1733-47c1-afb0-2389503fce51",
   "metadata": {},
   "source": [
    "#### Analisis\n",
    "Untuk angka, karakter + berfungsi sebagai operator matematika"
   ]
  },
  {
   "cell_type": "code",
   "execution_count": 12,
   "id": "127405e8-f285-41b6-8e6d-89f30d5653e2",
   "metadata": {},
   "outputs": [
    {
     "name": "stdout",
     "output_type": "stream",
     "text": [
      "5 John\n"
     ]
    }
   ],
   "source": [
    "x = 5\n",
    "y = \"John\"\n",
    "print(x, y)"
   ]
  },
  {
   "cell_type": "markdown",
   "id": "dd42e291-6c8c-4854-a673-8bf8befc60ca",
   "metadata": {},
   "source": [
    "#### Analisis\n",
    "Cara terbaik untuk mengeluarkan beberapa variabel dalam fungsi print() adalah dengan memisahkannya dengan koma, yang bahkan mendukung tipe data yang berbeda"
   ]
  },
  {
   "cell_type": "markdown",
   "id": "cb7199e3-7d05-482e-afc7-03c3b55fd883",
   "metadata": {},
   "source": [
    "## Global Variables"
   ]
  },
  {
   "cell_type": "code",
   "execution_count": 13,
   "id": "98e76731-20f5-4f6d-a8e4-ff0d8737077b",
   "metadata": {},
   "outputs": [
    {
     "name": "stdout",
     "output_type": "stream",
     "text": [
      "Python is awesome\n"
     ]
    }
   ],
   "source": [
    "x = \"awesome\"\n",
    "\n",
    "def myfunc():\n",
    "  print(\"Python is \" + x)\n",
    "\n",
    "myfunc()"
   ]
  },
  {
   "cell_type": "markdown",
   "id": "81f3328d-76dc-4fa0-94f0-42564775bb4b",
   "metadata": {},
   "source": [
    "#### Analisis\n",
    "Buat variabel di luar fungsi, dan gunakan di dalam fungsi"
   ]
  },
  {
   "cell_type": "code",
   "execution_count": 14,
   "id": "5d09ee2f-be1f-42e7-81ff-240e1ac4df4e",
   "metadata": {},
   "outputs": [
    {
     "name": "stdout",
     "output_type": "stream",
     "text": [
      "Python is fantastic\n",
      "Python is awesome\n"
     ]
    }
   ],
   "source": [
    "x = \"awesome\"\n",
    "\n",
    "def myfunc():\n",
    "  x = \"fantastic\"\n",
    "  print(\"Python is \" + x)\n",
    "\n",
    "myfunc()\n",
    "\n",
    "print(\"Python is \" + x)"
   ]
  },
  {
   "cell_type": "markdown",
   "id": "b11b43f1-9210-4aaf-8b7a-71325febaf22",
   "metadata": {},
   "source": [
    "#### Analisis\n",
    "Buat variabel di dalam fungsi, dengan nama yang sama dengan variabel global"
   ]
  },
  {
   "cell_type": "code",
   "execution_count": 15,
   "id": "c7f6c3e8-c1f0-4724-ad38-08c0c4fc4c21",
   "metadata": {},
   "outputs": [
    {
     "name": "stdout",
     "output_type": "stream",
     "text": [
      "Python is fantastic\n"
     ]
    }
   ],
   "source": [
    "def myfunc():\n",
    "  global x\n",
    "  x = \"fantastic\"\n",
    "\n",
    "myfunc()\n",
    "\n",
    "print(\"Python is \" + x)"
   ]
  },
  {
   "cell_type": "markdown",
   "id": "d37181df-fd35-4d41-b18d-f635b29b8229",
   "metadata": {},
   "source": [
    "#### Analisis\n",
    "Jika Anda menggunakan kata kunci global, variabel tersebut termasuk dalam cakupan global"
   ]
  },
  {
   "cell_type": "code",
   "execution_count": 16,
   "id": "a51833a9-a3a1-47db-8f51-928549467b19",
   "metadata": {},
   "outputs": [
    {
     "name": "stdout",
     "output_type": "stream",
     "text": [
      "Python is fantastic\n"
     ]
    }
   ],
   "source": [
    "x = \"awesome\"\n",
    "\n",
    "def myfunc():\n",
    "  global x\n",
    "  x = \"fantastic\"\n",
    "\n",
    "myfunc()\n",
    "\n",
    "print(\"Python is \" + x)"
   ]
  },
  {
   "cell_type": "markdown",
   "id": "61668982-3d11-4fe4-9fd9-b63042a99c9c",
   "metadata": {},
   "source": [
    "#### Analisis\n",
    "Untuk mengubah nilai variabel global di dalam suatu fungsi, rujuk variabel tersebut dengan menggunakan kata kunci global"
   ]
  },
  {
   "cell_type": "markdown",
   "id": "1bec876f-b282-434b-995d-9bda4f2505fb",
   "metadata": {},
   "source": [
    "## Python Data Types"
   ]
  },
  {
   "cell_type": "code",
   "execution_count": 17,
   "id": "d51ec449-cfb8-4bef-af61-c82f69ee503d",
   "metadata": {},
   "outputs": [
    {
     "name": "stdout",
     "output_type": "stream",
     "text": [
      "<class 'int'>\n"
     ]
    }
   ],
   "source": [
    "x = 5\n",
    "print(type(x))"
   ]
  },
  {
   "cell_type": "markdown",
   "id": "7a157f4f-862b-491b-914b-fe469defe6d6",
   "metadata": {},
   "source": [
    "#### Analisis\n",
    "Cetak tipe data variabel x"
   ]
  },
  {
   "cell_type": "markdown",
   "id": "bb840508-1fab-4bf5-aa99-c98be0065e16",
   "metadata": {},
   "source": [
    "## Python Numbers"
   ]
  },
  {
   "cell_type": "code",
   "execution_count": 18,
   "id": "a88dac14-bfd7-4587-9790-c47591723e8d",
   "metadata": {},
   "outputs": [],
   "source": [
    "x = 1    # int\n",
    "y = 2.8  # float\n",
    "z = 1j   # complex"
   ]
  },
  {
   "cell_type": "markdown",
   "id": "9c7bca9a-a01a-46d0-860c-45fa6d9632da",
   "metadata": {},
   "source": [
    "#### Analisis\n",
    "Variabel bertipe numerik dibuat ketika Anda menetapkan nilai pada variabel tersebut"
   ]
  },
  {
   "cell_type": "code",
   "execution_count": 19,
   "id": "4b625ee9-abc7-4e9f-8f9d-9f22db9f5ce4",
   "metadata": {},
   "outputs": [
    {
     "name": "stdout",
     "output_type": "stream",
     "text": [
      "<class 'int'>\n",
      "<class 'float'>\n",
      "<class 'complex'>\n"
     ]
    }
   ],
   "source": [
    "print(type(x))\n",
    "print(type(y))\n",
    "print(type(z))"
   ]
  },
  {
   "cell_type": "markdown",
   "id": "57b793e3-f21c-461c-b644-3501d310b78b",
   "metadata": {},
   "source": [
    "#### Analisis\n",
    "Untuk memverifikasi jenis objek apa pun di Python, gunakan fungsi type()"
   ]
  },
  {
   "cell_type": "code",
   "execution_count": 20,
   "id": "048ac4cb-8214-4107-bc18-49dab7b90a1f",
   "metadata": {},
   "outputs": [
    {
     "name": "stdout",
     "output_type": "stream",
     "text": [
      "<class 'int'>\n",
      "<class 'int'>\n",
      "<class 'int'>\n"
     ]
    }
   ],
   "source": [
    "x = 1\n",
    "y = 35656222554887711\n",
    "z = -3255522\n",
    "\n",
    "print(type(x))\n",
    "print(type(y))\n",
    "print(type(z))"
   ]
  },
  {
   "cell_type": "markdown",
   "id": "957fe214-3d96-4ec5-92e2-09002495c8e9",
   "metadata": {},
   "source": [
    "#### Analisis\n",
    "Int, atau integer, adalah bilangan bulat, positif atau negatif, tanpa desimal, dengan panjang tidak terbatas."
   ]
  },
  {
   "cell_type": "code",
   "execution_count": 21,
   "id": "b062a1c4-0425-4cf8-adfd-cb3cb210d02b",
   "metadata": {},
   "outputs": [
    {
     "name": "stdout",
     "output_type": "stream",
     "text": [
      "<class 'float'>\n",
      "<class 'float'>\n",
      "<class 'float'>\n"
     ]
    }
   ],
   "source": [
    "x = 1.10\n",
    "y = 1.0\n",
    "z = -35.59\n",
    "\n",
    "print(type(x))\n",
    "print(type(y))\n",
    "print(type(z))"
   ]
  },
  {
   "cell_type": "markdown",
   "id": "124d2669-f0c7-484f-90c5-0a682a7d2ed6",
   "metadata": {},
   "source": [
    "#### Analisis\n",
    "Float, atau \"bilangan titik mengambang\" adalah angka, positif atau negatif, yang mengandung satu atau lebih desimal."
   ]
  },
  {
   "cell_type": "code",
   "execution_count": 22,
   "id": "c86ffad6-7609-485d-9797-bd8614ec10a4",
   "metadata": {},
   "outputs": [
    {
     "name": "stdout",
     "output_type": "stream",
     "text": [
      "<class 'float'>\n",
      "<class 'float'>\n",
      "<class 'float'>\n"
     ]
    }
   ],
   "source": [
    "x = 35e3\n",
    "y = 12E4\n",
    "z = -87.7e100\n",
    "\n",
    "print(type(x))\n",
    "print(type(y))\n",
    "print(type(z))"
   ]
  },
  {
   "cell_type": "markdown",
   "id": "76e37e4b-713d-4db2-b5a2-f14bf26d9f3f",
   "metadata": {},
   "source": [
    "#### Analisis\n",
    "Float juga bisa berupa angka ilmiah dengan \"e\" untuk menunjukkan pangkat 10."
   ]
  },
  {
   "cell_type": "code",
   "execution_count": 23,
   "id": "f64ba090-1b48-4288-88ab-26a2c4ac31b4",
   "metadata": {},
   "outputs": [
    {
     "name": "stdout",
     "output_type": "stream",
     "text": [
      "<class 'complex'>\n",
      "<class 'complex'>\n",
      "<class 'complex'>\n"
     ]
    }
   ],
   "source": [
    "x = 3+5j\n",
    "y = 5j\n",
    "z = -5j\n",
    "\n",
    "print(type(x))\n",
    "print(type(y))\n",
    "print(type(z))"
   ]
  },
  {
   "cell_type": "markdown",
   "id": "319da037-d22f-49bd-b8c8-715a7ccf5a36",
   "metadata": {},
   "source": [
    "#### Analisis\n",
    "Bilangan kompleks ditulis dengan \"j\" sebagai bagian imajiner"
   ]
  },
  {
   "cell_type": "code",
   "execution_count": 24,
   "id": "2aac9c5f-9929-4874-9bec-dc5a04b4373d",
   "metadata": {},
   "outputs": [
    {
     "name": "stdout",
     "output_type": "stream",
     "text": [
      "1.0\n",
      "2\n",
      "(1+0j)\n",
      "<class 'float'>\n",
      "<class 'int'>\n",
      "<class 'complex'>\n"
     ]
    }
   ],
   "source": [
    "x = 1    # int\n",
    "y = 2.8  # float\n",
    "z = 1j   # complex\n",
    "\n",
    "#convert from int to float:\n",
    "a = float(x)\n",
    "\n",
    "#convert from float to int:\n",
    "b = int(y)\n",
    "\n",
    "#convert from int to complex:\n",
    "c = complex(x)\n",
    "\n",
    "print(a)\n",
    "print(b)\n",
    "print(c)\n",
    "\n",
    "print(type(a))\n",
    "print(type(b))\n",
    "print(type(c))"
   ]
  },
  {
   "cell_type": "markdown",
   "id": "24834321-cd28-41dd-8950-101084a49a52",
   "metadata": {},
   "source": [
    "#### Analisis\n",
    "Anda dapat mengonversi dari satu tipe ke tipe lain dengan metode int(), float(), dan complex()"
   ]
  },
  {
   "cell_type": "code",
   "execution_count": 25,
   "id": "adc1aa97-87a5-4dd3-a65a-c5f0f391808b",
   "metadata": {},
   "outputs": [
    {
     "name": "stdout",
     "output_type": "stream",
     "text": [
      "7\n"
     ]
    }
   ],
   "source": [
    "import random\n",
    "\n",
    "print(random.randrange(1, 10))"
   ]
  },
  {
   "cell_type": "markdown",
   "id": "a43f8d88-5130-4cb0-b39f-dfb62fcaa489",
   "metadata": {},
   "source": [
    "#### Analisis\n",
    "Python tidak memiliki fungsi random() untuk membuat angka acak, tetapi Python memiliki modul bawaan yang disebut random yang dapat digunakan untuk membuat angka acak"
   ]
  },
  {
   "cell_type": "markdown",
   "id": "6951a081-5168-42f1-b907-2ddd7c4a6eb9",
   "metadata": {},
   "source": [
    "## Python Casting"
   ]
  },
  {
   "cell_type": "code",
   "execution_count": 26,
   "id": "d70ce410-4b99-43b9-bada-959f0ae18a04",
   "metadata": {},
   "outputs": [],
   "source": [
    "x = int(1)   # x will be 1\n",
    "y = int(2.8) # y will be 2\n",
    "z = int(\"3\") # z will be 3"
   ]
  },
  {
   "cell_type": "code",
   "execution_count": 27,
   "id": "455c7c69-a5fe-4a22-b65c-ef6729085327",
   "metadata": {},
   "outputs": [],
   "source": [
    "x = float(1)     # x will be 1.0\n",
    "y = float(2.8)   # y will be 2.8\n",
    "z = float(\"3\")   # z will be 3.0\n",
    "w = float(\"4.2\") # w will be 4.2"
   ]
  },
  {
   "cell_type": "code",
   "execution_count": 28,
   "id": "83e41f96-a140-45e5-8e0a-120f05dad33f",
   "metadata": {},
   "outputs": [],
   "source": [
    "x = str(\"s1\") # x will be 's1'\n",
    "y = str(2)    # y will be '2'\n",
    "z = str(3.0)  # z will be '3.0'"
   ]
  },
  {
   "cell_type": "markdown",
   "id": "e3ce3433-14cd-4151-8be4-279dd27b7e2a",
   "metadata": {},
   "source": [
    "#### Analisis\n",
    "Oleh karena itu, pengecoran dalam Python dilakukan menggunakan fungsi konstruktor:\n",
    "\n",
    "int() - membangun bilangan integer dari literal integer, literal float (dengan menghapus semua desimal), atau literal string (dengan syarat string tersebut merepresentasikan bilangan bulat).\n",
    "float() - membangun bilangan float dari literal integer, literal float, atau literal string (dengan syarat string tersebut merepresentasikan float atau integer).\n",
    "str() - membangun string dari berbagai tipe data, termasuk string, literal integer, dan literal float."
   ]
  },
  {
   "cell_type": "markdown",
   "id": "e18c24f6-e936-4935-9a52-c331dd33c363",
   "metadata": {},
   "source": [
    "## Python Strings"
   ]
  },
  {
   "cell_type": "code",
   "execution_count": 29,
   "id": "71339176-7ba4-47b7-bc99-6dca2cdb6d04",
   "metadata": {},
   "outputs": [
    {
     "name": "stdout",
     "output_type": "stream",
     "text": [
      "Hello\n",
      "Hello\n"
     ]
    }
   ],
   "source": [
    "print(\"Hello\")\n",
    "print('Hello')"
   ]
  },
  {
   "cell_type": "markdown",
   "id": "093cbc8f-be5a-43e5-a01d-7cab302abdc0",
   "metadata": {},
   "source": [
    "#### Analisis\n",
    "Anda dapat menampilkan string literal dengan print()"
   ]
  },
  {
   "cell_type": "code",
   "execution_count": 30,
   "id": "2e0aebdf-d37a-4db7-8370-4ab767a26936",
   "metadata": {},
   "outputs": [
    {
     "name": "stdout",
     "output_type": "stream",
     "text": [
      "It's alright\n",
      "He is called 'Johnny'\n",
      "He is called \"Johnny\"\n"
     ]
    }
   ],
   "source": [
    "print(\"It's alright\")\n",
    "print(\"He is called 'Johnny'\")\n",
    "print('He is called \"Johnny\"')"
   ]
  },
  {
   "cell_type": "markdown",
   "id": "71c834ff-dd12-48fa-8004-3b39f5798daf",
   "metadata": {},
   "source": [
    "#### Analisis\n",
    "Anda dapat menggunakan tanda kutip di dalam string, selama tanda kutip tersebut tidak cocok dengan tanda kutip di sekitar string tersebut"
   ]
  },
  {
   "cell_type": "code",
   "execution_count": 31,
   "id": "7df971e2-8c16-4a1d-82ac-465de8736227",
   "metadata": {},
   "outputs": [
    {
     "name": "stdout",
     "output_type": "stream",
     "text": [
      "Hello\n"
     ]
    }
   ],
   "source": [
    "a = \"Hello\"\n",
    "print(a)"
   ]
  },
  {
   "cell_type": "markdown",
   "id": "80dd9b26-671e-43f9-80bc-364f368ef3a9",
   "metadata": {},
   "source": [
    "#### Analisis\n",
    "Penugasan string ke variabel dilakukan dengan nama variabel diikuti dengan tanda sama dengan dan string"
   ]
  },
  {
   "cell_type": "code",
   "execution_count": 32,
   "id": "5e2fdb58-cc65-433e-a6ee-7be99dd155b8",
   "metadata": {},
   "outputs": [
    {
     "name": "stdout",
     "output_type": "stream",
     "text": [
      "Lorem ipsum dolor sit amet,\n",
      "consectetur adipiscing elit,\n",
      "sed do eiusmod tempor incididunt\n",
      "ut labore et dolore magna aliqua.\n"
     ]
    }
   ],
   "source": [
    "a = \"\"\"Lorem ipsum dolor sit amet,\n",
    "consectetur adipiscing elit,\n",
    "sed do eiusmod tempor incididunt\n",
    "ut labore et dolore magna aliqua.\"\"\"\n",
    "print(a)"
   ]
  },
  {
   "cell_type": "markdown",
   "id": "86bce4f7-7d08-4d56-86b8-144bb8a2eac6",
   "metadata": {},
   "source": [
    "#### Analisis\n",
    "Anda dapat menggunakan tiga tanda kutip ganda"
   ]
  },
  {
   "cell_type": "code",
   "execution_count": 33,
   "id": "6db4ef06-7241-44ee-ac32-7f7bb1899928",
   "metadata": {},
   "outputs": [
    {
     "name": "stdout",
     "output_type": "stream",
     "text": [
      "Lorem ipsum dolor sit amet,\n",
      "consectetur adipiscing elit,\n",
      "sed do eiusmod tempor incididunt\n",
      "ut labore et dolore magna aliqua.\n"
     ]
    }
   ],
   "source": [
    "a = '''Lorem ipsum dolor sit amet,\n",
    "consectetur adipiscing elit,\n",
    "sed do eiusmod tempor incididunt\n",
    "ut labore et dolore magna aliqua.'''\n",
    "print(a)"
   ]
  },
  {
   "cell_type": "markdown",
   "id": "f7acb4ce-7bed-481d-86e8-151051b049da",
   "metadata": {},
   "source": [
    "#### Analisis\n",
    "Atau tiga tanda kutip tunggal"
   ]
  },
  {
   "cell_type": "code",
   "execution_count": 34,
   "id": "0ca8856e-ac98-4c6e-a4f0-3704c7b4ef8c",
   "metadata": {},
   "outputs": [
    {
     "name": "stdout",
     "output_type": "stream",
     "text": [
      "e\n"
     ]
    }
   ],
   "source": [
    "a = \"Hello, World!\"\n",
    "print(a[1])"
   ]
  },
  {
   "cell_type": "markdown",
   "id": "6134f05a-4771-4581-a0c5-b5dcef146a97",
   "metadata": {},
   "source": [
    "#### Analisis\n",
    "Dapatkan karakter pada posisi 1 (ingat bahwa karakter pertama memiliki posisi 0)"
   ]
  },
  {
   "cell_type": "code",
   "execution_count": 35,
   "id": "c798f839-feb1-4e83-9356-3b929e3e3714",
   "metadata": {},
   "outputs": [
    {
     "name": "stdout",
     "output_type": "stream",
     "text": [
      "b\n",
      "a\n",
      "n\n",
      "a\n",
      "n\n",
      "a\n"
     ]
    }
   ],
   "source": [
    "for x in \"banana\":\n",
    "  print(x)"
   ]
  },
  {
   "cell_type": "markdown",
   "id": "cb9184fd-a93f-45c9-bede-4441bc3a4e37",
   "metadata": {},
   "source": [
    "#### Analisis\n",
    "Ulangi huruf-huruf dalam kata \"banana\""
   ]
  },
  {
   "cell_type": "code",
   "execution_count": 36,
   "id": "d124eca1-68ac-45db-9b77-b060c99bff3e",
   "metadata": {},
   "outputs": [
    {
     "name": "stdout",
     "output_type": "stream",
     "text": [
      "13\n"
     ]
    }
   ],
   "source": [
    "a = \"Hello, World!\"\n",
    "print(len(a))"
   ]
  },
  {
   "cell_type": "markdown",
   "id": "4c805cb2-fb38-4114-bdb8-f1e76428d267",
   "metadata": {},
   "source": [
    "#### Analisis\n",
    "Fungsi len() mengembalikan panjang string"
   ]
  },
  {
   "cell_type": "code",
   "execution_count": 37,
   "id": "03b4f585-f226-4fd8-ba0c-4675b3674fa2",
   "metadata": {},
   "outputs": [
    {
     "name": "stdout",
     "output_type": "stream",
     "text": [
      "True\n"
     ]
    }
   ],
   "source": [
    "txt = \"The best things in life are free!\"\n",
    "print(\"free\" in txt)"
   ]
  },
  {
   "cell_type": "markdown",
   "id": "37bebe71-c15c-4b96-8824-d608a1d5e70a",
   "metadata": {},
   "source": [
    "#### Analisis\n",
    "Periksa apakah \"free\" ada dalam teks berikut"
   ]
  },
  {
   "cell_type": "code",
   "execution_count": 38,
   "id": "df81e927-3d29-40d4-b8c2-5b669f48b03e",
   "metadata": {},
   "outputs": [
    {
     "name": "stdout",
     "output_type": "stream",
     "text": [
      "Yes, 'free' is present.\n"
     ]
    }
   ],
   "source": [
    "txt = \"The best things in life are free!\"\n",
    "if \"free\" in txt:\n",
    "  print(\"Yes, 'free' is present.\")"
   ]
  },
  {
   "cell_type": "markdown",
   "id": "8d4c3437-f133-41ce-af41-c8f238056608",
   "metadata": {},
   "source": [
    "#### Analisis\n",
    "Cetak hanya jika ada \"free\""
   ]
  },
  {
   "cell_type": "code",
   "execution_count": 39,
   "id": "019e144c-1a87-43d0-9211-176ed28bb5ac",
   "metadata": {},
   "outputs": [
    {
     "name": "stdout",
     "output_type": "stream",
     "text": [
      "True\n"
     ]
    }
   ],
   "source": [
    "txt = \"The best things in life are free!\"\n",
    "print(\"expensive\" not in txt)"
   ]
  },
  {
   "cell_type": "markdown",
   "id": "213e1cfa-8b9b-4fa4-8ee6-72ddc410913c",
   "metadata": {},
   "source": [
    "#### Analisis\n",
    "Periksa apakah \"expensive\" TIDAK ada dalam teks berikut"
   ]
  },
  {
   "cell_type": "code",
   "execution_count": 40,
   "id": "5a67adb7-914f-41e5-8ef2-356514a0fad5",
   "metadata": {},
   "outputs": [
    {
     "name": "stdout",
     "output_type": "stream",
     "text": [
      "No, 'expensive' is NOT present.\n"
     ]
    }
   ],
   "source": [
    "txt = \"The best things in life are free!\"\n",
    "if \"expensive\" not in txt:\n",
    "  print(\"No, 'expensive' is NOT present.\")"
   ]
  },
  {
   "cell_type": "markdown",
   "id": "39c8a1f8-d2f4-4f70-b328-0d4cc9a37c89",
   "metadata": {},
   "source": [
    "#### Analisis\n",
    "cetak hanya jika \"expensive\" TIDAK ada"
   ]
  },
  {
   "cell_type": "markdown",
   "id": "7d271b65-f80d-4529-b84a-38eaad5b50af",
   "metadata": {},
   "source": [
    "## Slicing Strings"
   ]
  },
  {
   "cell_type": "code",
   "execution_count": 41,
   "id": "da6f9bbd-7675-4842-96b5-98d990d2b068",
   "metadata": {},
   "outputs": [
    {
     "name": "stdout",
     "output_type": "stream",
     "text": [
      "llo\n"
     ]
    }
   ],
   "source": [
    "b = \"Hello, World!\"\n",
    "print(b[2:5])"
   ]
  },
  {
   "cell_type": "markdown",
   "id": "2a70c631-3feb-4f06-98d1-28092da25c0d",
   "metadata": {},
   "source": [
    "#### Analisis\n",
    "Dapatkan karakter dari posisi 2 ke posisi 5 (tidak termasuk)"
   ]
  },
  {
   "cell_type": "code",
   "execution_count": 42,
   "id": "ecee500b-4434-4533-98c3-ca488ef31d15",
   "metadata": {},
   "outputs": [
    {
     "name": "stdout",
     "output_type": "stream",
     "text": [
      "Hello\n"
     ]
    }
   ],
   "source": [
    "b = \"Hello, World!\"\n",
    "print(b[:5])"
   ]
  },
  {
   "cell_type": "markdown",
   "id": "6d4d007f-3e65-44a4-a264-9a2827bc86a5",
   "metadata": {},
   "source": [
    "#### Analisis\n",
    "Dapatkan karakter dari awal hingga posisi 5 (tidak termasuk)"
   ]
  },
  {
   "cell_type": "code",
   "execution_count": 43,
   "id": "8398c349-6d9d-4b82-ad49-08c42355fb6c",
   "metadata": {},
   "outputs": [
    {
     "name": "stdout",
     "output_type": "stream",
     "text": [
      "llo, World!\n"
     ]
    }
   ],
   "source": [
    "b = \"Hello, World!\"\n",
    "print(b[2:])"
   ]
  },
  {
   "cell_type": "markdown",
   "id": "3b79baff-3eea-418f-896e-59124c9978fb",
   "metadata": {},
   "source": [
    "#### Analisis\n",
    "Dapatkan karakter dari posisi 2, dan sampai ke akhir"
   ]
  },
  {
   "cell_type": "code",
   "execution_count": 44,
   "id": "bb07525f-5dfd-4c95-9286-32dab206c13e",
   "metadata": {},
   "outputs": [
    {
     "name": "stdout",
     "output_type": "stream",
     "text": [
      "orl\n"
     ]
    }
   ],
   "source": [
    "b = \"Hello, World!\"\n",
    "print(b[-5:-2])"
   ]
  },
  {
   "cell_type": "markdown",
   "id": "d241d7b9-b20d-4f56-babd-e9fd82dbd6be",
   "metadata": {},
   "source": [
    "#### Analisis\n",
    "Dapatkan karakternya:\n",
    "\n",
    "Dari: \"o\" di \"World!\" (posisi -5)\n",
    "\n",
    "Ke, tetapi tidak termasuk: \"d\" di \"World!\" (posisi -2)"
   ]
  },
  {
   "cell_type": "markdown",
   "id": "629b3992-56a9-4468-839f-7961d4df1bbf",
   "metadata": {},
   "source": [
    "## Modify Strings"
   ]
  },
  {
   "cell_type": "code",
   "execution_count": 45,
   "id": "1d7e7fa9-2ae0-471f-80de-03631d684d9e",
   "metadata": {},
   "outputs": [
    {
     "name": "stdout",
     "output_type": "stream",
     "text": [
      "HELLO, WORLD!\n"
     ]
    }
   ],
   "source": [
    "a = \"Hello, World!\"\n",
    "print(a.upper())"
   ]
  },
  {
   "cell_type": "markdown",
   "id": "61da5c08-74a6-495f-a7be-902ca3576b8b",
   "metadata": {},
   "source": [
    "#### Analisis\n",
    "Metode upper() mengembalikan string dalam huruf besar"
   ]
  },
  {
   "cell_type": "code",
   "execution_count": 46,
   "id": "75505e85-578b-4a5f-b6b3-ec7161ee2318",
   "metadata": {},
   "outputs": [
    {
     "name": "stdout",
     "output_type": "stream",
     "text": [
      "hello, world!\n"
     ]
    }
   ],
   "source": [
    "a = \"Hello, World!\"\n",
    "print(a.lower())"
   ]
  },
  {
   "cell_type": "markdown",
   "id": "6fffd644-9e1a-4177-9299-085512da7745",
   "metadata": {},
   "source": [
    "#### Analisis\n",
    "Metode lower() mengembalikan string dalam huruf kecil"
   ]
  },
  {
   "cell_type": "code",
   "execution_count": 47,
   "id": "29a5f381-3b92-4c12-be8a-6f070ee606a1",
   "metadata": {},
   "outputs": [
    {
     "name": "stdout",
     "output_type": "stream",
     "text": [
      "Hello, World!\n"
     ]
    }
   ],
   "source": [
    "a = \" Hello, World! \"\n",
    "print(a.strip()) # returns \"Hello, World!\""
   ]
  },
  {
   "cell_type": "markdown",
   "id": "55bf4161-e944-4a15-84ad-9edb64f81120",
   "metadata": {},
   "source": [
    "#### Analisis\n",
    "Metode strip() menghapus spasi apa pun dari awal atau akhir"
   ]
  },
  {
   "cell_type": "code",
   "execution_count": 48,
   "id": "78e29399-71e2-4a91-9bf4-2dc1e435fa5b",
   "metadata": {},
   "outputs": [
    {
     "name": "stdout",
     "output_type": "stream",
     "text": [
      "Jello, World!\n"
     ]
    }
   ],
   "source": [
    "a = \"Hello, World!\"\n",
    "print(a.replace(\"H\", \"J\"))\n"
   ]
  },
  {
   "cell_type": "markdown",
   "id": "16aa7205-a70f-4837-99f2-04fe36fe3677",
   "metadata": {},
   "source": [
    "#### Analisis\n",
    "Metode replace() mengganti string dengan string lain"
   ]
  },
  {
   "cell_type": "code",
   "execution_count": 49,
   "id": "1732d3de-d4e1-4e9d-baae-45143b04feaa",
   "metadata": {},
   "outputs": [
    {
     "name": "stdout",
     "output_type": "stream",
     "text": [
      "['Hello', ' World!']\n"
     ]
    }
   ],
   "source": [
    "a = \"Hello, World!\"\n",
    "print(a.split(\",\")) # returns ['Hello', ' World!']"
   ]
  },
  {
   "cell_type": "markdown",
   "id": "f57a00f4-c069-48aa-b6b5-3f6121216f4a",
   "metadata": {},
   "source": [
    "#### Analisis\n",
    "Metode split() membagi string menjadi substring jika menemukan contoh pemisah"
   ]
  },
  {
   "cell_type": "markdown",
   "id": "2acf2ecf-6688-48b2-b832-0968c71332e5",
   "metadata": {},
   "source": [
    "## String Concatenation"
   ]
  },
  {
   "cell_type": "code",
   "execution_count": 50,
   "id": "3612051a-5976-417c-a1d9-631e92197865",
   "metadata": {},
   "outputs": [
    {
     "name": "stdout",
     "output_type": "stream",
     "text": [
      "HelloWorld\n"
     ]
    }
   ],
   "source": [
    "a = \"Hello\"\n",
    "b = \"World\"\n",
    "c = a + b\n",
    "print(c)"
   ]
  },
  {
   "cell_type": "markdown",
   "id": "10f3dbb2-c653-4d1f-8fd2-c4880acc339f",
   "metadata": {},
   "source": [
    "#### Analisis\n",
    "Gabungkan variabel a dengan variabel b ke dalam variabel c"
   ]
  },
  {
   "cell_type": "code",
   "execution_count": 51,
   "id": "3ded45eb-9753-4376-b1c7-315d02d48720",
   "metadata": {},
   "outputs": [
    {
     "name": "stdout",
     "output_type": "stream",
     "text": [
      "Hello World\n"
     ]
    }
   ],
   "source": [
    "a = \"Hello\"\n",
    "b = \"World\"\n",
    "c = a + \" \" + b\n",
    "print(c)"
   ]
  },
  {
   "cell_type": "markdown",
   "id": "4f930f24-f68a-4a44-9561-cf0499f42b92",
   "metadata": {},
   "source": [
    "#### Analisis\n",
    "Untuk menambahkan spasi di antara keduanya, tambahkan \" \""
   ]
  },
  {
   "cell_type": "markdown",
   "id": "6dc806b3-86a4-452e-b708-96605b654bcd",
   "metadata": {},
   "source": [
    "## Format - Strings"
   ]
  },
  {
   "cell_type": "code",
   "execution_count": 52,
   "id": "c2cc9c72-93e2-44fa-8594-9e69e71dd9f7",
   "metadata": {},
   "outputs": [
    {
     "name": "stdout",
     "output_type": "stream",
     "text": [
      "My name is John, I am 36\n"
     ]
    }
   ],
   "source": [
    "age = 36\n",
    "txt = f\"My name is John, I am {age}\"\n",
    "print(txt)"
   ]
  },
  {
   "cell_type": "markdown",
   "id": "ce132418-8ca9-4f86-a940-f7aa66c18696",
   "metadata": {},
   "source": [
    "#### Analisis\n",
    "Membuat string f"
   ]
  },
  {
   "cell_type": "code",
   "execution_count": 53,
   "id": "039208b9-72ed-4fd7-83ee-2356ee1fd3df",
   "metadata": {},
   "outputs": [
    {
     "name": "stdout",
     "output_type": "stream",
     "text": [
      "The price is 59 dollars\n"
     ]
    }
   ],
   "source": [
    "price = 59\n",
    "txt = f\"The price is {price} dollars\"\n",
    "print(txt)"
   ]
  },
  {
   "cell_type": "markdown",
   "id": "7aae0c84-78e0-4773-9e36-953b71174930",
   "metadata": {},
   "source": [
    "#### Analisis\n",
    "Tambahkan placeholder untuk variabel harga"
   ]
  },
  {
   "cell_type": "code",
   "execution_count": 54,
   "id": "9fac4389-8bf9-42e3-9327-56ceed67a58f",
   "metadata": {},
   "outputs": [
    {
     "name": "stdout",
     "output_type": "stream",
     "text": [
      "The price is 59.00 dollars\n"
     ]
    }
   ],
   "source": [
    "price = 59\n",
    "txt = f\"The price is {price:.2f} dollars\"\n",
    "print(txt)"
   ]
  },
  {
   "cell_type": "markdown",
   "id": "cb54110d-a54b-45d5-b766-ecf89348fa1b",
   "metadata": {},
   "source": [
    "#### Analisis\n",
    "Menampilkan harga dengan 2 desimal"
   ]
  },
  {
   "cell_type": "code",
   "execution_count": 55,
   "id": "a4b9e111-a2ac-44dc-b98f-67a09d950b5c",
   "metadata": {},
   "outputs": [
    {
     "name": "stdout",
     "output_type": "stream",
     "text": [
      "The price is 1180 dollars\n"
     ]
    }
   ],
   "source": [
    "txt = f\"The price is {20 * 59} dollars\"\n",
    "print(txt)"
   ]
  },
  {
   "cell_type": "markdown",
   "id": "49af4c4b-0ecc-4b7f-9dfb-9db71285ecce",
   "metadata": {},
   "source": [
    "#### Analisis\n",
    "Lakukan operasi matematika di placeholder, dan kembalikan hasilnya"
   ]
  },
  {
   "cell_type": "markdown",
   "id": "8aeaa65a-159d-4130-913f-1b1e6ca5ed09",
   "metadata": {},
   "source": [
    "## Escape Characters"
   ]
  },
  {
   "cell_type": "code",
   "execution_count": 56,
   "id": "6944a81f-4ba1-4434-92a1-f16b8127f32d",
   "metadata": {},
   "outputs": [],
   "source": [
    "txt = \"We are the so-called \\\"Vikings\\\" from the north.\""
   ]
  },
  {
   "cell_type": "markdown",
   "id": "08380a11-beb1-48d7-844c-af288905425c",
   "metadata": {},
   "source": [
    "#### Analisis\n",
    "Karakter escape memungkinkan Anda menggunakan tanda kutip ganda ketika biasanya tidak diperbolehkan"
   ]
  },
  {
   "cell_type": "markdown",
   "id": "fd875275-6e0b-43c7-8489-e9ef2b1f256e",
   "metadata": {},
   "source": [
    "## Python Booleans"
   ]
  },
  {
   "cell_type": "code",
   "execution_count": 57,
   "id": "2053136c-f39b-49b9-942c-12ae695fe5d3",
   "metadata": {},
   "outputs": [
    {
     "name": "stdout",
     "output_type": "stream",
     "text": [
      "True\n",
      "False\n",
      "False\n"
     ]
    }
   ],
   "source": [
    "print(10 > 9)\n",
    "print(10 == 9)\n",
    "print(10 < 9)"
   ]
  },
  {
   "cell_type": "markdown",
   "id": "d3e9ebb9-b7a3-496d-8c4f-f3ed4d9a4f6f",
   "metadata": {},
   "source": [
    "#### Analisis\n",
    "Dalam pemrograman, Anda sering kali perlu mengetahui apakah suatu ekspresi bernilai Benar atau Salah.\n",
    "\n",
    "Anda dapat mengevaluasi ekspresi apa pun di Python, dan mendapatkan salah satu dari dua jawaban, Benar atau Salah.\n",
    "\n",
    "Ketika Anda membandingkan dua nilai, ekspresi tersebut dievaluasi dan Python mengembalikan jawaban Boolean."
   ]
  },
  {
   "cell_type": "code",
   "execution_count": 58,
   "id": "b726dd91-67c2-46de-8d4c-904ff6721654",
   "metadata": {},
   "outputs": [
    {
     "name": "stdout",
     "output_type": "stream",
     "text": [
      "b is not greater than a\n"
     ]
    }
   ],
   "source": [
    "a = 200\n",
    "b = 33\n",
    "\n",
    "if b > a:\n",
    "  print(\"b is greater than a\")\n",
    "else:\n",
    "  print(\"b is not greater than a\")"
   ]
  },
  {
   "cell_type": "markdown",
   "id": "6e6b5383-1f7c-4f1d-8f10-d23a8a76c23e",
   "metadata": {},
   "source": [
    "#### Analisis\n",
    "Cetak pesan berdasarkan apakah kondisinya Benar atau Salah"
   ]
  },
  {
   "cell_type": "code",
   "execution_count": 59,
   "id": "ffd927db-09a3-4694-92d9-d151ce0ba0d2",
   "metadata": {},
   "outputs": [
    {
     "name": "stdout",
     "output_type": "stream",
     "text": [
      "True\n",
      "True\n"
     ]
    }
   ],
   "source": [
    "print(bool(\"Hello\"))\n",
    "print(bool(15))"
   ]
  },
  {
   "cell_type": "markdown",
   "id": "3664d476-afeb-40c6-bd24-6cb6b33e6ab4",
   "metadata": {},
   "source": [
    "#### Analisis\n",
    "Mengevaluasi string dan angka"
   ]
  },
  {
   "cell_type": "code",
   "execution_count": 60,
   "id": "d518a00d-5300-4114-a0b2-827ecb70a682",
   "metadata": {},
   "outputs": [
    {
     "name": "stdout",
     "output_type": "stream",
     "text": [
      "True\n",
      "True\n"
     ]
    }
   ],
   "source": [
    "x = \"Hello\"\n",
    "y = 15\n",
    "\n",
    "print(bool(x))\n",
    "print(bool(y))"
   ]
  },
  {
   "cell_type": "markdown",
   "id": "06332d1b-7933-4986-a070-c6cac52370e6",
   "metadata": {},
   "source": [
    "#### Analisis\n",
    "Mengevaluasi dua variabel"
   ]
  },
  {
   "cell_type": "code",
   "execution_count": 61,
   "id": "7bec18cc-e744-4a22-bce9-98111798e415",
   "metadata": {},
   "outputs": [
    {
     "data": {
      "text/plain": [
       "True"
      ]
     },
     "execution_count": 61,
     "metadata": {},
     "output_type": "execute_result"
    }
   ],
   "source": [
    "bool(\"abc\")\n",
    "bool(123)\n",
    "bool([\"apple\", \"cherry\", \"banana\"])"
   ]
  },
  {
   "cell_type": "markdown",
   "id": "85a9e023-d41c-4798-9d3d-6fe54193c46e",
   "metadata": {},
   "source": [
    "#### Analisis\n",
    "Hampir semua nilai dievaluasi sebagai Benar jika memiliki semacam konten.\n",
    "\n",
    "Semua string bernilai Benar, kecuali string kosong.\n",
    "\n",
    "Semua angka bernilai Benar, kecuali 0.\n",
    "\n",
    "Semua daftar, tupel, himpunan, dan kamus bernilai Benar, kecuali yang kosong.\n",
    "\n",
    "Ini akan mengembalikan True"
   ]
  },
  {
   "cell_type": "code",
   "execution_count": 62,
   "id": "32d6f551-9eae-41c8-9ba3-a6e32de54969",
   "metadata": {},
   "outputs": [
    {
     "data": {
      "text/plain": [
       "False"
      ]
     },
     "execution_count": 62,
     "metadata": {},
     "output_type": "execute_result"
    }
   ],
   "source": [
    "bool(False)\n",
    "bool(None)\n",
    "bool(0)\n",
    "bool(\"\")\n",
    "bool(())\n",
    "bool([])\n",
    "bool({})"
   ]
  },
  {
   "cell_type": "markdown",
   "id": "a9562496-ebd2-43b9-a726-3fb57120e43e",
   "metadata": {},
   "source": [
    "#### Analisis\n",
    "Faktanya, tidak banyak nilai yang bernilai Salah, kecuali nilai kosong, seperti (), [], {}, \"\", angka 0, dan nilai None. Dan tentu saja, nilai Salah juga bernilai Salah.\n",
    "\n",
    "Ini akan mengembalikan False"
   ]
  },
  {
   "cell_type": "code",
   "execution_count": 63,
   "id": "144cb5ea-b9da-49fc-be6b-c4de41a60d35",
   "metadata": {},
   "outputs": [
    {
     "name": "stdout",
     "output_type": "stream",
     "text": [
      "False\n"
     ]
    }
   ],
   "source": [
    "class myclass():\n",
    "  def __len__(self):\n",
    "    return 0\n",
    "\n",
    "myobj = myclass()\n",
    "print(bool(myobj))"
   ]
  },
  {
   "cell_type": "markdown",
   "id": "1128bd4c-136d-4c3e-812d-f9ef7f2b3219",
   "metadata": {},
   "source": [
    "#### Analisis\n",
    "Satu nilai lagi, atau objek dalam kasus ini, dievaluasi menjadi Salah, dan itu jika Anda memiliki objek yang dibuat dari kelas dengan fungsi __len__ yang mengembalikan 0 atau Salah"
   ]
  },
  {
   "cell_type": "code",
   "execution_count": 64,
   "id": "13e82567-3745-4dad-8631-2a7a1f8dab75",
   "metadata": {},
   "outputs": [
    {
     "name": "stdout",
     "output_type": "stream",
     "text": [
      "True\n"
     ]
    }
   ],
   "source": [
    "def myFunction() :\n",
    "  return True\n",
    "\n",
    "print(myFunction())"
   ]
  },
  {
   "cell_type": "markdown",
   "id": "9d0260a4-853d-4534-bc5c-dfd3e4842188",
   "metadata": {},
   "source": [
    "#### Analisis\n",
    "Anda dapat membuat fungsi yang mengembalikan Nilai Boolean\n",
    "\n",
    "Cetak jawaban suatu fungsi"
   ]
  },
  {
   "cell_type": "code",
   "execution_count": 65,
   "id": "8374110b-5d40-4ea7-afc8-e62dc09b2559",
   "metadata": {},
   "outputs": [
    {
     "name": "stdout",
     "output_type": "stream",
     "text": [
      "YES!\n"
     ]
    }
   ],
   "source": [
    "def myFunction() :\n",
    "  return True\n",
    "\n",
    "if myFunction():\n",
    "  print(\"YES!\")\n",
    "else:\n",
    "  print(\"NO!\")"
   ]
  },
  {
   "cell_type": "markdown",
   "id": "6bf64bb1-d840-420d-9c8d-805de8c8ac5f",
   "metadata": {},
   "source": [
    "#### Analisis\n",
    "Anda dapat mengeksekusi kode berdasarkan jawaban Boolean suatu fungsi\n",
    "\n",
    "Cetak \"YA!\" jika fungsi mengembalikan Benar, jika tidak, cetak \"TIDAK!\""
   ]
  },
  {
   "cell_type": "code",
   "execution_count": 66,
   "id": "44764503-e43e-439e-82ae-d6c4234973f7",
   "metadata": {},
   "outputs": [
    {
     "name": "stdout",
     "output_type": "stream",
     "text": [
      "True\n"
     ]
    }
   ],
   "source": [
    "x = 200\n",
    "print(isinstance(x, int))"
   ]
  },
  {
   "cell_type": "markdown",
   "id": "1fdb0f36-7090-4ad3-8406-d222305e4b5b",
   "metadata": {},
   "source": [
    "#### Analisis\n",
    "Python juga memiliki banyak fungsi bawaan yang mengembalikan nilai boolean, seperti fungsi isinstance(), yang dapat digunakan untuk menentukan apakah suatu objek memiliki tipe data tertentu\n",
    "\n",
    "Periksa apakah suatu objek adalah bilangan bulat atau bukan"
   ]
  },
  {
   "cell_type": "markdown",
   "id": "73a5aea6-8e18-450e-a8e4-7eff8216dedd",
   "metadata": {},
   "source": [
    "## Python Operators"
   ]
  },
  {
   "cell_type": "code",
   "execution_count": 67,
   "id": "4840cb96-f5e0-4972-8a1f-267fbb350674",
   "metadata": {},
   "outputs": [
    {
     "name": "stdout",
     "output_type": "stream",
     "text": [
      "15\n"
     ]
    }
   ],
   "source": [
    "print(10 + 5)"
   ]
  },
  {
   "cell_type": "markdown",
   "id": "ae10eb81-ec36-49f3-9489-ba5436d30cf8",
   "metadata": {},
   "source": [
    "#### Analisis\n",
    "Operator digunakan untuk melakukan operasi pada variabel dan nilai.\n",
    "\n",
    "Dalam contoh di bawah ini, kita menggunakan operator + untuk menjumlahkan dua nilai."
   ]
  },
  {
   "cell_type": "code",
   "execution_count": 68,
   "id": "d5fc73e8-61b6-47e4-a22f-3cc8dcbfe7c1",
   "metadata": {},
   "outputs": [],
   "source": [
    "sum1 = 100 + 50      # 150 (100 + 50)\n",
    "sum2 = sum1 + 250    # 400 (150 + 250)\n",
    "sum3 = sum2 + sum2   # 800 (400 + 400)"
   ]
  },
  {
   "cell_type": "markdown",
   "id": "e3190782-68b4-4d48-bb6c-6a5eeffaa137",
   "metadata": {},
   "source": [
    "#### Analisis\n",
    "Meskipun operator + sering digunakan untuk menambahkan dua nilai, seperti pada contoh di atas, operator ini juga dapat digunakan untuk menambahkan variabel dan nilai, atau dua variabel."
   ]
  },
  {
   "cell_type": "markdown",
   "id": "4eba8a99-339b-4952-97f6-1aa61adcbef1",
   "metadata": {},
   "source": [
    "## Python Arithmetic Operators"
   ]
  },
  {
   "cell_type": "code",
   "execution_count": 69,
   "id": "dab7cd62-570c-4099-990f-85b903139da8",
   "metadata": {},
   "outputs": [
    {
     "name": "stdout",
     "output_type": "stream",
     "text": [
      "19\n",
      "11\n",
      "60\n",
      "3.75\n",
      "3\n",
      "50625\n",
      "3\n"
     ]
    }
   ],
   "source": [
    "x = 15\n",
    "y = 4\n",
    "\n",
    "print(x + y)\n",
    "print(x - y)\n",
    "print(x * y)\n",
    "print(x / y)\n",
    "print(x % y)\n",
    "print(x ** y)\n",
    "print(x // y)"
   ]
  },
  {
   "cell_type": "markdown",
   "id": "8e0c645f-6870-442e-9cc5-9d99b0f24f11",
   "metadata": {},
   "source": [
    "#### Analisis\n",
    "Ini adalah contoh penggunaan operator aritmatika yang berbeda"
   ]
  },
  {
   "cell_type": "code",
   "execution_count": 71,
   "id": "cba0f913-74cc-4380-9b6f-cf6ae133664f",
   "metadata": {},
   "outputs": [
    {
     "name": "stdout",
     "output_type": "stream",
     "text": [
      "2.4\n"
     ]
    }
   ],
   "source": [
    "x = 12\n",
    "y = 5\n",
    "\n",
    "print(x / y)"
   ]
  },
  {
   "cell_type": "markdown",
   "id": "18df1b94-5684-4c39-9536-a7ed87628b9e",
   "metadata": {},
   "source": [
    "#### Analisis\n",
    "Python memiliki dua operator pembagian:\n",
    "\n",
    "/ - Pembagian (mengembalikan bilangan float)\n",
    "\n",
    "// - Pembagian floor (mengembalikan bilangan integer)\n",
    "\n",
    "Pembagian selalu mengembalikan float"
   ]
  },
  {
   "cell_type": "code",
   "execution_count": 72,
   "id": "151e8cdc-684d-4750-8752-df9476a730de",
   "metadata": {},
   "outputs": [
    {
     "name": "stdout",
     "output_type": "stream",
     "text": [
      "2\n"
     ]
    }
   ],
   "source": [
    "x = 12\n",
    "y = 5\n",
    "\n",
    "print(x // y)"
   ]
  },
  {
   "cell_type": "markdown",
   "id": "507cddc9-5aaf-48eb-9edf-6b3c60e2cd2e",
   "metadata": {},
   "source": [
    "#### Analisis\n",
    "Pembagian lantai selalu menghasilkan bilangan bulat.\n",
    "\n",
    "Dibulatkan ke BAWAH ke bilangan bulat terdekat."
   ]
  },
  {
   "cell_type": "markdown",
   "id": "1ec82bbc-7a78-4614-8bb7-38807bb3505b",
   "metadata": {},
   "source": [
    "## Python Assignment Operators"
   ]
  },
  {
   "cell_type": "code",
   "execution_count": 73,
   "id": "5f2fa507-2a74-4d33-8ecc-049ae7034a88",
   "metadata": {},
   "outputs": [
    {
     "name": "stdout",
     "output_type": "stream",
     "text": [
      "List has 5 elements\n",
      "List has 5 elements\n"
     ]
    }
   ],
   "source": [
    "numbers = [1, 2, 3, 4, 5]\n",
    "count = len(numbers)\n",
    "if count > 3:\n",
    "    print(f\"List has {count} elements\")\n",
    "\n",
    "if (count := len(numbers)) > 3:\n",
    "    print(f\"List has {count} elements\")"
   ]
  },
  {
   "cell_type": "markdown",
   "id": "4e79077b-3d03-45ac-8699-0b84625df482",
   "metadata": {},
   "source": [
    "#### Analisis\n",
    "Python 3.8 memperkenalkan operator :=, yang dikenal sebagai \"operator walrus\". Operator ini menetapkan nilai ke variabel sebagai bagian dari ekspresi yang lebih besar."
   ]
  },
  {
   "cell_type": "markdown",
   "id": "e709790f-ebc7-4392-80ad-df50dec108bc",
   "metadata": {},
   "source": [
    "## Python Comparison Operators"
   ]
  },
  {
   "cell_type": "code",
   "execution_count": 74,
   "id": "027a14c1-d24d-4143-bb12-7c761d195ac4",
   "metadata": {},
   "outputs": [
    {
     "name": "stdout",
     "output_type": "stream",
     "text": [
      "False\n",
      "True\n",
      "True\n",
      "False\n",
      "True\n",
      "False\n"
     ]
    }
   ],
   "source": [
    "x = 5\n",
    "y = 3\n",
    "\n",
    "print(x == y)\n",
    "print(x != y)\n",
    "print(x > y)\n",
    "print(x < y)\n",
    "print(x >= y)\n",
    "print(x <= y)"
   ]
  },
  {
   "cell_type": "markdown",
   "id": "7eb6ac3c-245c-42fa-a3d5-b75bee151bfe",
   "metadata": {},
   "source": [
    "#### Analisis\n",
    "Operator perbandingan mengembalikan Benar atau Salah berdasarkan perbandingan"
   ]
  },
  {
   "cell_type": "code",
   "execution_count": 75,
   "id": "26effd14-b59c-42f0-be30-3a1dea7bbb59",
   "metadata": {},
   "outputs": [
    {
     "name": "stdout",
     "output_type": "stream",
     "text": [
      "True\n",
      "True\n"
     ]
    }
   ],
   "source": [
    "x = 5\n",
    "\n",
    "print(1 < x < 10)\n",
    "\n",
    "print(1 < x and x < 10)"
   ]
  },
  {
   "cell_type": "markdown",
   "id": "657b309d-d00d-44ea-ac34-cdb30ab5c819",
   "metadata": {},
   "source": [
    "#### Analisis\n",
    "Python memungkinkan Anda untuk merangkai operator perbandingan"
   ]
  },
  {
   "cell_type": "markdown",
   "id": "6495eb6b-331e-4d9a-886c-05a7f395de10",
   "metadata": {},
   "source": [
    "## Python Logical Operators"
   ]
  },
  {
   "cell_type": "code",
   "execution_count": 76,
   "id": "1caa7acc-131f-471b-ac18-22d49deb9dbe",
   "metadata": {},
   "outputs": [
    {
     "name": "stdout",
     "output_type": "stream",
     "text": [
      "True\n"
     ]
    }
   ],
   "source": [
    "x = 5\n",
    "\n",
    "print(x > 0 and x < 10)"
   ]
  },
  {
   "cell_type": "markdown",
   "id": "0765e621-e80f-4e64-b04e-a82f6c10f59b",
   "metadata": {},
   "source": [
    "#### Analisis\n",
    "Uji apakah suatu angka lebih besar dari 0 dan kurang dari 10"
   ]
  },
  {
   "cell_type": "code",
   "execution_count": 77,
   "id": "0bbb0749-f22a-46a4-b249-4a9e3a9957cd",
   "metadata": {},
   "outputs": [
    {
     "name": "stdout",
     "output_type": "stream",
     "text": [
      "False\n"
     ]
    }
   ],
   "source": [
    "x = 5\n",
    "\n",
    "print(x < 5 or x > 10)"
   ]
  },
  {
   "cell_type": "markdown",
   "id": "3c6ebbcd-a61f-468a-a624-0ce9156cb6a8",
   "metadata": {},
   "source": [
    "#### Analisis\n",
    "Uji apakah suatu angka kurang dari 5 atau lebih besar dari 10"
   ]
  },
  {
   "cell_type": "code",
   "execution_count": 78,
   "id": "0ecf9421-9d31-4901-9269-1a34a78a6d6c",
   "metadata": {},
   "outputs": [
    {
     "name": "stdout",
     "output_type": "stream",
     "text": [
      "False\n"
     ]
    }
   ],
   "source": [
    "x = 5\n",
    "\n",
    "print(not(x > 3 and x < 10))"
   ]
  },
  {
   "cell_type": "markdown",
   "id": "223c060f-0b5d-479d-9a82-ce70dcf352c8",
   "metadata": {},
   "source": [
    "#### Analisis\n",
    "Membalikkan hasil dengan tidak"
   ]
  },
  {
   "cell_type": "markdown",
   "id": "7373f0c2-000e-40d9-b3a3-e98292a22071",
   "metadata": {},
   "source": [
    "## Python Identity Operators"
   ]
  },
  {
   "cell_type": "code",
   "execution_count": 79,
   "id": "cede8830-4d5d-42cf-ab4b-674c5d84423a",
   "metadata": {},
   "outputs": [
    {
     "name": "stdout",
     "output_type": "stream",
     "text": [
      "True\n",
      "False\n",
      "True\n"
     ]
    }
   ],
   "source": [
    "x = [\"apple\", \"banana\"]\n",
    "y = [\"apple\", \"banana\"]\n",
    "z = x\n",
    "\n",
    "print(x is z)\n",
    "print(x is y)\n",
    "print(x == y)"
   ]
  },
  {
   "cell_type": "markdown",
   "id": "240da56b-6202-47b5-8e7a-2878a86dec3b",
   "metadata": {},
   "source": [
    "#### Analisis\n",
    "Operator is mengembalikan True jika kedua variabel menunjuk ke objek yang sama"
   ]
  },
  {
   "cell_type": "code",
   "execution_count": 80,
   "id": "40936394-9414-4cc1-9526-cf4d7fb794d2",
   "metadata": {},
   "outputs": [
    {
     "name": "stdout",
     "output_type": "stream",
     "text": [
      "True\n"
     ]
    }
   ],
   "source": [
    "x = [\"apple\", \"banana\"]\n",
    "y = [\"apple\", \"banana\"]\n",
    "\n",
    "print(x is not y)"
   ]
  },
  {
   "cell_type": "markdown",
   "id": "a05e9e53-6de0-4ff2-bd9f-cdcbd59d0f00",
   "metadata": {},
   "source": [
    "#### Analisis\n",
    "Operator is not mengembalikan True jika kedua variabel tidak menunjuk ke objek yang sama"
   ]
  },
  {
   "cell_type": "code",
   "execution_count": 81,
   "id": "9149be5c-13b2-4773-a2b1-d3ac5e213416",
   "metadata": {},
   "outputs": [
    {
     "name": "stdout",
     "output_type": "stream",
     "text": [
      "True\n",
      "False\n"
     ]
    }
   ],
   "source": [
    "x = [1, 2, 3]\n",
    "y = [1, 2, 3]\n",
    "\n",
    "print(x == y)\n",
    "print(x is y)"
   ]
  },
  {
   "cell_type": "markdown",
   "id": "6fbeb256-4848-4da1-95ae-20fdcddedc6d",
   "metadata": {},
   "source": [
    "#### Analisis\n",
    "is - Memeriksa apakah kedua variabel menunjuk ke objek yang sama di memori\n",
    "\n",
    "== - Memeriksa apakah nilai kedua variabel sama"
   ]
  },
  {
   "cell_type": "markdown",
   "id": "9f8bb41c-a1e0-4517-9461-4e95d12f804f",
   "metadata": {},
   "source": [
    "## Python Membership Operators"
   ]
  },
  {
   "cell_type": "code",
   "execution_count": 82,
   "id": "91106a78-0c1c-468a-a607-6b8706f73316",
   "metadata": {},
   "outputs": [
    {
     "name": "stdout",
     "output_type": "stream",
     "text": [
      "True\n"
     ]
    }
   ],
   "source": [
    "fruits = [\"apple\", \"banana\", \"cherry\"]\n",
    "\n",
    "print(\"banana\" in fruits)"
   ]
  },
  {
   "cell_type": "markdown",
   "id": "6dc5e41b-ad55-4420-a2e5-e7d61ddc3203",
   "metadata": {},
   "source": [
    "#### Analisis\n",
    "Periksa apakah \"banana\" ada dalam daftar"
   ]
  },
  {
   "cell_type": "code",
   "execution_count": 83,
   "id": "03bd9667-56dc-4b57-bde1-363e42265473",
   "metadata": {},
   "outputs": [
    {
     "name": "stdout",
     "output_type": "stream",
     "text": [
      "True\n"
     ]
    }
   ],
   "source": [
    "fruits = [\"apple\", \"banana\", \"cherry\"]\n",
    "\n",
    "print(\"pineapple\" not in fruits)"
   ]
  },
  {
   "cell_type": "markdown",
   "id": "09f24c04-1182-4a7f-ac2c-a9b7f4e27dd4",
   "metadata": {},
   "source": [
    "#### Analisis\n",
    "Periksa apakah \"pineapple\" TIDAK ada dalam daftar"
   ]
  },
  {
   "cell_type": "code",
   "execution_count": 84,
   "id": "2a062bac-6af6-4dfd-8dbe-eb845bb10a0e",
   "metadata": {},
   "outputs": [
    {
     "name": "stdout",
     "output_type": "stream",
     "text": [
      "True\n",
      "False\n",
      "True\n"
     ]
    }
   ],
   "source": [
    "text = \"Hello World\"\n",
    "\n",
    "print(\"H\" in text)\n",
    "print(\"hello\" in text)\n",
    "print(\"z\" not in text)"
   ]
  },
  {
   "cell_type": "markdown",
   "id": "57d43cef-05b9-463d-aee9-49742cd39f5e",
   "metadata": {},
   "source": [
    "#### Analisis\n",
    "Operator keanggotaan juga bekerja dengan string"
   ]
  },
  {
   "cell_type": "markdown",
   "id": "8d091310-7aeb-4eae-96c4-d95d71cdd648",
   "metadata": {},
   "source": [
    "## Python Bitwise Operators"
   ]
  },
  {
   "cell_type": "code",
   "execution_count": 85,
   "id": "0eee316e-399d-459b-b9e8-3ebc802e5ad6",
   "metadata": {},
   "outputs": [
    {
     "name": "stdout",
     "output_type": "stream",
     "text": [
      "2\n"
     ]
    }
   ],
   "source": [
    "print(6 & 3)"
   ]
  },
  {
   "cell_type": "markdown",
   "id": "bd25fc39-cdbd-4368-b30e-207d4aff56e6",
   "metadata": {},
   "source": [
    "#### Analisis\n",
    "Operator & membandingkan setiap bit dan mengaturnya menjadi 1 jika keduanya bernilai 1, jika tidak maka akan diatur menjadi 0\n",
    "\n",
    "Representasi biner dari 6 adalah 0110\n",
    "\n",
    "Representasi biner dari 3 adalah 0011\n",
    "\n",
    "Kemudian operator & membandingkan bit-bit tersebut dan menghasilkan 0010, yang merupakan 2 dalam desimal."
   ]
  },
  {
   "cell_type": "code",
   "execution_count": 86,
   "id": "ea80ebbb-a508-4434-88cf-a30b688868f5",
   "metadata": {},
   "outputs": [
    {
     "name": "stdout",
     "output_type": "stream",
     "text": [
      "7\n"
     ]
    }
   ],
   "source": [
    "print(6 | 3)"
   ]
  },
  {
   "cell_type": "markdown",
   "id": "76fafb69-d568-42d7-8a25-bc287ff85463",
   "metadata": {},
   "source": [
    "#### Analisis\n",
    "Operator | membandingkan setiap bit dan mengaturnya menjadi 1 jika satu atau keduanya bernilai 1, jika tidak maka akan diatur ke 0\n",
    "\n",
    "Representasi biner dari 6 adalah 0110\n",
    "\n",
    "Representasi biner dari 3 adalah 0011\n",
    "\n",
    "Kemudian operator | membandingkan bit-bit tersebut dan menghasilkan 0111, yang merupakan 7 dalam desimal."
   ]
  },
  {
   "cell_type": "code",
   "execution_count": 87,
   "id": "82f33245-451d-4183-872c-154ac7c26668",
   "metadata": {},
   "outputs": [
    {
     "name": "stdout",
     "output_type": "stream",
     "text": [
      "5\n"
     ]
    }
   ],
   "source": [
    "print(6 ^ 3)"
   ]
  },
  {
   "cell_type": "markdown",
   "id": "cd29a290-67e1-42f3-acb0-cb00cbaeb2d9",
   "metadata": {},
   "source": [
    "#### Analisis\n",
    "Operator ^ membandingkan setiap bit dan mengaturnya menjadi 1 jika hanya satu yang bernilai 1, jika tidak (jika keduanya bernilai 1 atau keduanya bernilai 0) maka diatur ke 0\n",
    "\n",
    "Representasi biner dari 6 adalah 0110\n",
    "\n",
    "Representasi biner dari 3 adalah 0011\n",
    "\n",
    "Kemudian operator ^ membandingkan bit-bit tersebut dan menghasilkan 0101, yang merupakan 5 dalam desimal."
   ]
  },
  {
   "cell_type": "markdown",
   "id": "d125836b-3336-4f21-832f-759e6be250fd",
   "metadata": {},
   "source": [
    "## Python Operator Precedence"
   ]
  },
  {
   "cell_type": "code",
   "execution_count": 88,
   "id": "7c32df80-3402-4176-80a5-e5ecdfbd9136",
   "metadata": {},
   "outputs": [
    {
     "name": "stdout",
     "output_type": "stream",
     "text": [
      "0\n"
     ]
    }
   ],
   "source": [
    "print((6 + 3) - (6 + 3))"
   ]
  },
  {
   "cell_type": "markdown",
   "id": "8dbde67a-9a44-4d87-8ebc-feefcc95bc09",
   "metadata": {},
   "source": [
    "#### Analisis\n",
    "Tanda kurung memiliki prioritas tertinggi, artinya ekspresi di dalam tanda kurung harus dievaluasi terlebih dahulu"
   ]
  },
  {
   "cell_type": "code",
   "execution_count": 89,
   "id": "4e980de7-5438-4e3e-99da-d12553075a5a",
   "metadata": {},
   "outputs": [
    {
     "name": "stdout",
     "output_type": "stream",
     "text": [
      "115\n"
     ]
    }
   ],
   "source": [
    "print(100 + 5 * 3)"
   ]
  },
  {
   "cell_type": "markdown",
   "id": "760d8983-45aa-4985-91cb-8198c0275656",
   "metadata": {},
   "source": [
    "#### Analisis\n",
    "Perkalian * mempunyai prioritas lebih tinggi daripada penambahan +, dan oleh karena itu perkalian dievaluasi sebelum penambahan"
   ]
  },
  {
   "cell_type": "code",
   "execution_count": 90,
   "id": "b6d9dd02-893e-46c4-97d6-96f8e9067ee7",
   "metadata": {},
   "outputs": [
    {
     "name": "stdout",
     "output_type": "stream",
     "text": [
      "5\n"
     ]
    }
   ],
   "source": [
    "print(5 + 4 - 7 + 3)"
   ]
  },
  {
   "cell_type": "markdown",
   "id": "79f15267-ed43-4352-b4fa-6cd21196822e",
   "metadata": {},
   "source": [
    "#### Analisis\n",
    "Jika dua operator memiliki prioritas yang sama, ekspresi dievaluasi dari kiri ke kanan.\n",
    "\n",
    "Penjumlahan + dan pengurangan - memiliki prioritas yang sama, dan oleh karena itu kita mengevaluasi ekspresi dari kiri ke kanan"
   ]
  },
  {
   "cell_type": "markdown",
   "id": "aba5897c-e063-4ece-bc33-979a80428509",
   "metadata": {},
   "source": [
    "## Python If Statement"
   ]
  },
  {
   "cell_type": "code",
   "execution_count": 91,
   "id": "49e462a8-d0e3-43ad-b16a-bc3dcb301906",
   "metadata": {},
   "outputs": [
    {
     "name": "stdout",
     "output_type": "stream",
     "text": [
      "b is greater than a\n"
     ]
    }
   ],
   "source": [
    "a = 33\n",
    "b = 200\n",
    "if b > a:\n",
    "  print(\"b is greater than a\")"
   ]
  },
  {
   "cell_type": "markdown",
   "id": "516d32e6-93e0-44c0-a7f9-39d196996eb0",
   "metadata": {},
   "source": [
    "#### Analisis\n",
    "Python mendukung kondisi logika umum dari matematika:\n",
    "\n",
    "Sama dengan: a == b\n",
    "Tidak Sama dengan: a != b\n",
    "Kurang dari: a < b\n",
    "Kurang dari atau sama dengan: a <= b\n",
    "Lebih besar dari: a > b\n",
    "Lebih besar dari atau sama dengan: a >= b\n",
    "Kondisi ini dapat digunakan dalam beberapa cara, paling umum dalam \"pernyataan if\" dan perulangan.\n",
    "\n",
    "\"Pernyataan if\" ditulis dengan menggunakan kata kunci if.\n",
    "\n",
    "Jika pernyataan\n",
    "\n",
    "Dalam contoh ini, saya menggunakan dua variabel, a dan b, yang digunakan sebagai bagian dari pernyataan if untuk menguji apakah b lebih besar dari a. Karena a adalah 33, dan b adalah 200, kami tahu bahwa 200 lebih besar dari 33, sehingga kami menampilkan di layar bahwa \"b lebih besar dari a\"."
   ]
  },
  {
   "cell_type": "code",
   "execution_count": 92,
   "id": "e9d1fd6d-9e67-4e54-8433-f1e0dafeeb4f",
   "metadata": {},
   "outputs": [
    {
     "name": "stdout",
     "output_type": "stream",
     "text": [
      "The number is positive\n"
     ]
    }
   ],
   "source": [
    "number = 15\n",
    "if number > 0:\n",
    "  print(\"The number is positive\")"
   ]
  },
  {
   "cell_type": "markdown",
   "id": "aebc64ab-80b7-4ebd-8f6d-c9361567afb8",
   "metadata": {},
   "source": [
    "#### Analisis\n",
    "Pernyataan if mengevaluasi suatu kondisi (ekspresi yang menghasilkan nilai Benar atau Salah). Jika kondisinya benar, blok kode di dalam pernyataan if akan dieksekusi. Jika kondisinya salah, blok kode akan dilewati.\n",
    "\n",
    "Memeriksa apakah suatu angka positif"
   ]
  },
  {
   "cell_type": "code",
   "execution_count": 93,
   "id": "1ef20db8-b2fa-418f-83e7-741f964fbff3",
   "metadata": {},
   "outputs": [
    {
     "name": "stdout",
     "output_type": "stream",
     "text": [
      "You are an adult\n",
      "You can vote\n",
      "You have full legal rights\n"
     ]
    }
   ],
   "source": [
    "age = 20\n",
    "if age >= 18:\n",
    "  print(\"You are an adult\")\n",
    "  print(\"You can vote\")\n",
    "  print(\"You have full legal rights\")"
   ]
  },
  {
   "cell_type": "markdown",
   "id": "e8bbc951-c917-42d3-81b0-bcb78b42314c",
   "metadata": {},
   "source": [
    "#### Analisis\n",
    "Anda dapat memiliki beberapa pernyataan di dalam blok if. Semua pernyataan harus memiliki indentasi yang sama.\n",
    "\n",
    "Beberapa pernyataan dalam blok if"
   ]
  },
  {
   "cell_type": "code",
   "execution_count": 94,
   "id": "92f593e5-b789-4845-a444-49c3bc64b701",
   "metadata": {},
   "outputs": [
    {
     "name": "stdout",
     "output_type": "stream",
     "text": [
      "Welcome back!\n"
     ]
    }
   ],
   "source": [
    "is_logged_in = True\n",
    "if is_logged_in:\n",
    "  print(\"Welcome back!\")"
   ]
  },
  {
   "cell_type": "markdown",
   "id": "1cca4277-8cba-42d6-a72b-418e589c4126",
   "metadata": {},
   "source": [
    "#### Analisis\n",
    "Variabel Boolean dapat digunakan langsung dalam pernyataan if tanpa operator perbandingan.\n",
    "\n",
    "Menggunakan variabel boolean\n",
    "\n",
    "Python dapat mengevaluasi berbagai jenis nilai sebagai Benar atau Salah dalam pernyataan if.\n",
    "\n",
    "Nilai nol (0), string kosong (\"\"), None, dan koleksi kosong diperlakukan sebagai Salah. Semua nilai lainnya diperlakukan sebagai Benar.\n",
    "\n",
    "Ini termasuk bilangan positif (5), bilangan negatif (-3), dan string apa pun yang tidak kosong (bahkan \"Salah\" pun diperlakukan sebagai Benar karena string tersebut tidak kosong)."
   ]
  },
  {
   "cell_type": "markdown",
   "id": "5b848f0c-d8d0-4065-87cd-a904033061dc",
   "metadata": {},
   "source": [
    "## Python Elif Statement"
   ]
  },
  {
   "cell_type": "code",
   "execution_count": 95,
   "id": "c787aa36-2159-4575-9d9f-71118522f75f",
   "metadata": {},
   "outputs": [
    {
     "name": "stdout",
     "output_type": "stream",
     "text": [
      "a and b are equal\n"
     ]
    }
   ],
   "source": [
    "a = 33\n",
    "b = 33\n",
    "if b > a:\n",
    "  print(\"b is greater than a\")\n",
    "elif a == b:\n",
    "  print(\"a and b are equal\")"
   ]
  },
  {
   "cell_type": "markdown",
   "id": "56e5562a-a0da-4773-8618-6bd0e80a7d76",
   "metadata": {},
   "source": [
    "#### Analisis\n",
    "Kata kunci elif adalah cara Python untuk mengatakan \"jika kondisi sebelumnya tidak benar, maka coba kondisi ini\".\n",
    "\n",
    "Kata kunci elif memungkinkan Anda untuk memeriksa beberapa ekspresi untuk memastikan nilai Benar dan mengeksekusi blok kode segera setelah salah satu kondisi bernilai Benar.\n",
    "\n",
    "Dalam contoh ini a sama dengan b, jadi kondisi pertama tidak benar, tetapi kondisi elif benar, jadi kita mencetak ke layar bahwa \"a dan b sama\"."
   ]
  },
  {
   "cell_type": "code",
   "execution_count": 96,
   "id": "f59d04b9-4e50-485e-868a-f15078bcfb4a",
   "metadata": {},
   "outputs": [
    {
     "name": "stdout",
     "output_type": "stream",
     "text": [
      "Grade: C\n"
     ]
    }
   ],
   "source": [
    "score = 75\n",
    "\n",
    "if score >= 90:\n",
    "  print(\"Grade: A\")\n",
    "elif score >= 80:\n",
    "  print(\"Grade: B\")\n",
    "elif score >= 70:\n",
    "  print(\"Grade: C\")\n",
    "elif score >= 60:\n",
    "  print(\"Grade: D\")"
   ]
  },
  {
   "cell_type": "markdown",
   "id": "71491181-f9d2-431a-b4d9-3a966351530f",
   "metadata": {},
   "source": [
    "#### Analisis\n",
    "Anda dapat memiliki pernyataan elif sebanyak yang Anda butuhkan. Python akan memeriksa setiap kondisi secara berurutan dan mengeksekusi kondisi pertama yang benar.\n",
    "\n",
    "Menguji berbagai kondisi\n",
    "\n",
    "Dalam contoh ini, program memeriksa setiap kondisi secara berurutan. Karena skornya 75, program akan mencetak \"Nilai: C\" (kondisi pertama yang bernilai benar)."
   ]
  },
  {
   "cell_type": "code",
   "execution_count": 97,
   "id": "6fcdccb4-c50e-4384-8bc0-dd783442c356",
   "metadata": {},
   "outputs": [
    {
     "name": "stdout",
     "output_type": "stream",
     "text": [
      "You are an adult\n"
     ]
    }
   ],
   "source": [
    "age = 25\n",
    "\n",
    "if age < 13:\n",
    "  print(\"You are a child\")\n",
    "elif age < 20:\n",
    "  print(\"You are a teenager\")\n",
    "elif age < 65:\n",
    "  print(\"You are an adult\")\n",
    "elif age >= 65:\n",
    "  print(\"You are a senior\")"
   ]
  },
  {
   "cell_type": "markdown",
   "id": "ad82de74-fa7f-436f-81eb-722f707a6544",
   "metadata": {},
   "source": [
    "#### Analisis\n",
    "Saat Anda menggunakan elif, Python mengevaluasi kondisi dari atas ke bawah. Segera setelah menemukan kondisi yang benar, Python akan mengeksekusi blok tersebut dan melewati semua kondisi yang tersisa.\n",
    "\n",
    "Penting: Hanya kondisi pertama yang benar yang akan dieksekusi. Bahkan jika beberapa kondisi benar, Python akan berhenti setelah mengeksekusi blok pertama yang cocok.\n",
    "\n",
    "Mengkategorikan kelompok usia"
   ]
  },
  {
   "cell_type": "code",
   "execution_count": 98,
   "id": "9151361e-4352-4f08-88ee-ec2f95b095fd",
   "metadata": {},
   "outputs": [
    {
     "name": "stdout",
     "output_type": "stream",
     "text": [
      "Wednesday\n"
     ]
    }
   ],
   "source": [
    "day = 3\n",
    "\n",
    "if day == 1:\n",
    "  print(\"Monday\")\n",
    "elif day == 2:\n",
    "  print(\"Tuesday\")\n",
    "elif day == 3:\n",
    "  print(\"Wednesday\")\n",
    "elif day == 4:\n",
    "  print(\"Thursday\")\n",
    "elif day == 5:\n",
    "  print(\"Friday\")\n",
    "elif day == 6:\n",
    "  print(\"Saturday\")\n",
    "elif day == 7:\n",
    "  print(\"Sunday\")"
   ]
  },
  {
   "cell_type": "markdown",
   "id": "eae30f9d-cac2-4769-ae88-f6f6eae46634",
   "metadata": {},
   "source": [
    "#### Analisis\n",
    "Gunakan elif ketika Anda memiliki beberapa kondisi yang saling eksklusif untuk diperiksa. Ini lebih efisien daripada menggunakan beberapa pernyataan if terpisah karena Python berhenti memeriksa setelah menemukan kondisi yang benar.\n",
    "\n",
    "Contoh\n",
    "Pemeriksa hari dalam seminggu"
   ]
  },
  {
   "cell_type": "markdown",
   "id": "4556a5b6-c7df-4fef-b390-acb8319bd9d0",
   "metadata": {},
   "source": [
    "## Python Else Statement"
   ]
  },
  {
   "cell_type": "code",
   "execution_count": 99,
   "id": "9406d634-dd58-4b84-a3f6-90c1d892274b",
   "metadata": {},
   "outputs": [
    {
     "name": "stdout",
     "output_type": "stream",
     "text": [
      "a is greater than b\n"
     ]
    }
   ],
   "source": [
    "a = 200\n",
    "b = 33\n",
    "if b > a:\n",
    "  print(\"b is greater than a\")\n",
    "elif a == b:\n",
    "  print(\"a and b are equal\")\n",
    "else:\n",
    "  print(\"a is greater than b\")"
   ]
  },
  {
   "cell_type": "markdown",
   "id": "82df1aab-0eaf-48a8-8993-b4cd5f7091d5",
   "metadata": {},
   "source": [
    "#### Analisis\n",
    "Kata kunci else menangkap apa pun yang tidak ditangkap oleh kondisi sebelumnya.\n",
    "\n",
    "Pernyataan else dieksekusi ketika kondisi if (dan kondisi elif apa pun) bernilai Salah.\n",
    "\n",
    "Dalam contoh ini a lebih besar dari b, jadi kondisi pertama tidak benar, kondisi elif juga tidak benar, jadi kita masuk ke kondisi else dan mencetak ke layar bahwa \"a lebih besar dari b\"."
   ]
  },
  {
   "cell_type": "code",
   "execution_count": 100,
   "id": "c8e44142-3069-44a7-8616-bae4d95ebd57",
   "metadata": {},
   "outputs": [
    {
     "name": "stdout",
     "output_type": "stream",
     "text": [
      "b is not greater than a\n"
     ]
    }
   ],
   "source": [
    "a = 200\n",
    "b = 33\n",
    "if b > a:\n",
    "  print(\"b is greater than a\")\n",
    "else:\n",
    "  print(\"b is not greater than a\")"
   ]
  },
  {
   "cell_type": "markdown",
   "id": "bd784eb9-8961-4c69-ad72-9048c1b78b78",
   "metadata": {},
   "source": [
    "#### Analisis\n",
    "Anda juga dapat memiliki else tanpa elif\n",
    "\n",
    "Ini menciptakan pilihan dua arah yang sederhana: jika kondisinya benar, jalankan satu blok; jika tidak, jalankan blok else."
   ]
  },
  {
   "cell_type": "code",
   "execution_count": 101,
   "id": "b88b9579-7981-43e6-b224-1c9b89d34e80",
   "metadata": {},
   "outputs": [
    {
     "name": "stdout",
     "output_type": "stream",
     "text": [
      "The number is odd\n"
     ]
    }
   ],
   "source": [
    "number = 7\n",
    "\n",
    "if number % 2 == 0:\n",
    "  print(\"The number is even\")\n",
    "else:\n",
    "  print(\"The number is odd\")"
   ]
  },
  {
   "cell_type": "markdown",
   "id": "b30f3730-3f4d-4572-9231-523cef93fba5",
   "metadata": {},
   "source": [
    "#### Analisis\n",
    "Cara Kerja Else\n",
    "\n",
    "Pernyataan else menyediakan tindakan default ketika tidak ada kondisi sebelumnya yang benar. Anggap saja sebagai \"catch-all\" untuk skenario apa pun yang tidak tercakup oleh pernyataan if dan elif Anda.\n",
    "\n",
    "Catatan: Pernyataan else harus berada di akhir. Anda tidak dapat menggunakan elif setelah else.\n",
    "\n",
    "Contoh\n",
    "Memeriksa bilangan genap atau ganjil"
   ]
  },
  {
   "cell_type": "code",
   "execution_count": 102,
   "id": "e3f2f81a-e224-44de-8616-113c80df6046",
   "metadata": {},
   "outputs": [
    {
     "name": "stdout",
     "output_type": "stream",
     "text": [
      "It's warm outside\n"
     ]
    }
   ],
   "source": [
    "temperature = 22\n",
    "\n",
    "if temperature > 30:\n",
    "  print(\"It's hot outside!\")\n",
    "elif temperature > 20:\n",
    "  print(\"It's warm outside\")\n",
    "elif temperature > 10:\n",
    "  print(\"It's cool outside\")\n",
    "else:\n",
    "  print(\"It's cold outside!\")"
   ]
  },
  {
   "cell_type": "markdown",
   "id": "751ca43e-eda7-487b-9c62-42e06c1e9b7f",
   "metadata": {},
   "source": [
    "#### Analisis\n",
    "Rantai If-Elif-Else Lengkap\n",
    "Anda dapat menggabungkan if, elif, dan else untuk membuat struktur pengambilan keputusan yang komprehensif.\n",
    "\n",
    "Contoh\n",
    "Pengklasifikasi suhu"
   ]
  },
  {
   "cell_type": "code",
   "execution_count": 103,
   "id": "ec4c1dcb-ac1f-46e0-980f-bac0c868be77",
   "metadata": {},
   "outputs": [
    {
     "name": "stdout",
     "output_type": "stream",
     "text": [
      "Welcome, Emil!\n"
     ]
    }
   ],
   "source": [
    "username = \"Emil\"\n",
    "\n",
    "if len(username) > 0:\n",
    "  print(f\"Welcome, {username}!\")\n",
    "else:\n",
    "  print(\"Error: Username cannot be empty\")"
   ]
  },
  {
   "cell_type": "markdown",
   "id": "b6c66d2d-dfc7-47c4-a044-865bfe8a326d",
   "metadata": {},
   "source": [
    "#### Analisis\n",
    "Else sebagai Fallback\n",
    "Pernyataan else bertindak sebagai fallback yang dieksekusi ketika tidak ada kondisi sebelumnya yang benar. Hal ini membuatnya berguna untuk penanganan kesalahan, validasi, dan penyediaan nilai default.\n",
    "\n",
    "Contoh\n",
    "Memvalidasi input pengguna"
   ]
  },
  {
   "cell_type": "markdown",
   "id": "846cfe1d-db8f-4d2d-978c-d6e4d3c6b791",
   "metadata": {},
   "source": [
    "## Python Shorthand If"
   ]
  },
  {
   "cell_type": "code",
   "execution_count": 104,
   "id": "bcfb1424-1671-4653-bbee-eb37b13c67a0",
   "metadata": {},
   "outputs": [
    {
     "name": "stdout",
     "output_type": "stream",
     "text": [
      "a is greater than b\n"
     ]
    }
   ],
   "source": [
    "a = 5\n",
    "b = 2\n",
    "if a > b: print(\"a is greater than b\")"
   ]
  },
  {
   "cell_type": "markdown",
   "id": "08fabf7f-6807-40fb-9eb6-146c84a11c86",
   "metadata": {},
   "source": [
    "#### Analisis\n",
    "Singkatan If\n",
    "Jika Anda hanya memiliki satu pernyataan untuk dieksekusi, Anda dapat meletakkannya di baris yang sama dengan pernyataan if.\n",
    "\n",
    "Contoh: Dapatkan Server Python Anda Sendiri\n",
    "Pernyataan if satu baris\n",
    "\n",
    "Catatan: Anda masih memerlukan titik dua : setelah kondisinya."
   ]
  },
  {
   "cell_type": "code",
   "execution_count": 105,
   "id": "6655dbd3-022a-4ae2-bd16-f54ef9059484",
   "metadata": {},
   "outputs": [
    {
     "name": "stdout",
     "output_type": "stream",
     "text": [
      "B\n"
     ]
    }
   ],
   "source": [
    "a = 2\n",
    "b = 330\n",
    "print(\"A\") if a > b else print(\"B\")"
   ]
  },
  {
   "cell_type": "markdown",
   "id": "b104e392-8854-4a1f-a694-dcbc94c95945",
   "metadata": {},
   "source": [
    "#### Analisis\n",
    "Singkatan If ... Else\n",
    "Jika Anda memiliki satu pernyataan untuk if dan satu untuk else, Anda dapat menempatkannya pada baris yang sama menggunakan ekspresi kondisional:\n",
    "\n",
    "Contoh\n",
    "If/else satu baris yang mencetak nilai\n",
    "\n",
    "Ini disebut ekspresi kondisional (kadang-kadang dikenal sebagai \"operator terner\")."
   ]
  },
  {
   "cell_type": "code",
   "execution_count": 106,
   "id": "8aef7103-e169-444e-9b70-fe0913100ff8",
   "metadata": {},
   "outputs": [
    {
     "name": "stdout",
     "output_type": "stream",
     "text": [
      "Bigger is 20\n"
     ]
    }
   ],
   "source": [
    "a = 10\n",
    "b = 20\n",
    "bigger = a if a > b else b\n",
    "print(\"Bigger is\", bigger)"
   ]
  },
  {
   "cell_type": "markdown",
   "id": "b54d4e96-66c4-4d8a-9871-3878f1ca3e82",
   "metadata": {},
   "source": [
    "#### Analisis\n",
    "Menetapkan Nilai dengan If ... Else\n",
    "Anda juga dapat menggunakan if/else satu baris untuk memilih nilai dan menetapkannya ke variabel.\n",
    "\n",
    "Sintaksisnya mengikuti pola ini:\n",
    "\n",
    "variable = value_if_true if condition else value_if_false"
   ]
  },
  {
   "cell_type": "code",
   "execution_count": 107,
   "id": "3afbc92b-de41-453b-92a8-f7698ec4a8ce",
   "metadata": {},
   "outputs": [
    {
     "name": "stdout",
     "output_type": "stream",
     "text": [
      "=\n"
     ]
    }
   ],
   "source": [
    "a = 330\n",
    "b = 330\n",
    "print(\"A\") if a > b else print(\"=\") if a == b else print(\"B\")"
   ]
  },
  {
   "cell_type": "markdown",
   "id": "6c9449ec-a5e9-4561-ac6b-4f14787ef67b",
   "metadata": {},
   "source": [
    "#### Analisis\n",
    "Beberapa Kondisi dalam Satu Baris\n",
    "Anda dapat merangkai ekspresi kondisional, tetapi buatlah singkat agar tetap mudah dibaca:\n",
    "\n",
    "Contoh\n",
    "Satu baris, tiga hasil"
   ]
  },
  {
   "cell_type": "code",
   "execution_count": 108,
   "id": "b31f6e2c-27fc-4087-bf35-0bc881ed1ff4",
   "metadata": {},
   "outputs": [
    {
     "name": "stdout",
     "output_type": "stream",
     "text": [
      "Maximum value: 20\n"
     ]
    }
   ],
   "source": [
    "x = 15\n",
    "y = 20\n",
    "max_value = x if x > y else y\n",
    "print(\"Maximum value:\", max_value)"
   ]
  },
  {
   "cell_type": "markdown",
   "id": "c0cceef7-d779-4bbc-865b-dd03e449b67c",
   "metadata": {},
   "source": [
    "#### Analisis\n",
    "Contoh Praktis\n",
    "Operator terner sangat berguna untuk penugasan sederhana dan pernyataan return.\n",
    "\n",
    "Contoh\n",
    "Menemukan nilai maksimum dua angka"
   ]
  },
  {
   "cell_type": "code",
   "execution_count": 109,
   "id": "8817ec08-ad07-4000-8558-4eb02e8bb3b6",
   "metadata": {},
   "outputs": [
    {
     "name": "stdout",
     "output_type": "stream",
     "text": [
      "Welcome, Guest\n"
     ]
    }
   ],
   "source": [
    "username = \"\"\n",
    "display_name = username if username else \"Guest\"\n",
    "print(\"Welcome,\", display_name)"
   ]
  },
  {
   "cell_type": "markdown",
   "id": "2913cb92-7afd-4ee3-b7e9-1891942859e2",
   "metadata": {},
   "source": [
    "#### Analisis\n",
    "Menetapkan nilai default"
   ]
  },
  {
   "cell_type": "markdown",
   "id": "475ef0c0-0212-4e8f-8e52-cd969fdf5085",
   "metadata": {},
   "source": [
    "#### Note\n",
    "Kapan Menggunakan If Singkat\n",
    "Pernyataan if singkat dan operator terner sebaiknya digunakan ketika:\n",
    "\n",
    "Kondisi dan tindakannya sederhana\n",
    "Ini meningkatkan keterbacaan kode\n",
    "Anda ingin membuat penugasan cepat berdasarkan suatu kondisi\n",
    "Penting: Meskipun pernyataan if singkat dapat membuat kode lebih ringkas, hindari penggunaannya yang berlebihan untuk kondisi yang kompleks. Untuk keterbacaan, gunakan pernyataan if-else biasa ketika menangani beberapa baris kode atau logika yang kompleks."
   ]
  },
  {
   "cell_type": "markdown",
   "id": "05bb487e-8760-4090-9885-0d314a0adcf4",
   "metadata": {},
   "source": [
    "## Python Logical Operators"
   ]
  },
  {
   "cell_type": "code",
   "execution_count": 110,
   "id": "0cdab2f4-da62-4193-95f9-4118357656ad",
   "metadata": {},
   "outputs": [
    {
     "name": "stdout",
     "output_type": "stream",
     "text": [
      "Both conditions are True\n"
     ]
    }
   ],
   "source": [
    "a = 200\n",
    "b = 33\n",
    "c = 500\n",
    "if a > b and c > a:\n",
    "  print(\"Both conditions are True\")"
   ]
  },
  {
   "cell_type": "markdown",
   "id": "a619c875-dec4-4b8b-aed8-9df6e6eeb5c9",
   "metadata": {},
   "source": [
    "#### Analisis\n",
    "Operator Logika Python\n",
    "Operator logika digunakan untuk menggabungkan pernyataan kondisional. Python memiliki tiga operator logika:\n",
    "\n",
    "and - Mengembalikan True jika kedua pernyataan bernilai true\n",
    "or - Mengembalikan True jika salah satu pernyataan bernilai true\n",
    "not - Membalikkan hasil, mengembalikan False jika hasilnya true\n",
    "Operator and\n",
    "Kata kunci and adalah operator logika, dan digunakan untuk menggabungkan pernyataan kondisional. Kedua kondisi harus bernilai true agar seluruh ekspresi bernilai true.\n",
    "\n",
    "Contoh: Dapatkan Server Python Anda Sendiri\n",
    "Uji apakah a lebih besar dari b, DAN jika c lebih besar dari a"
   ]
  },
  {
   "cell_type": "code",
   "execution_count": 111,
   "id": "a296c69b-915d-4b17-a120-88e38bbfa3e8",
   "metadata": {},
   "outputs": [
    {
     "name": "stdout",
     "output_type": "stream",
     "text": [
      "At least one of the conditions is True\n"
     ]
    }
   ],
   "source": [
    "a = 200\n",
    "b = 33\n",
    "c = 500\n",
    "if a > b or a > c:\n",
    "  print(\"At least one of the conditions is True\")"
   ]
  },
  {
   "cell_type": "markdown",
   "id": "fffd29d1-5e26-4649-b7fa-974e76593418",
   "metadata": {},
   "source": [
    "#### Analisis\n",
    "Operator or\n",
    "Kata kunci or adalah operator logika, dan digunakan untuk menggabungkan pernyataan kondisional. Setidaknya satu kondisi harus benar agar seluruh ekspresi bernilai benar.\n",
    "\n",
    "Contoh\n",
    "Uji apakah a lebih besar dari b, ATAU jika a lebih besar dari c"
   ]
  },
  {
   "cell_type": "code",
   "execution_count": 112,
   "id": "f5916fbd-513e-4af0-aca1-6fd18154fe34",
   "metadata": {},
   "outputs": [
    {
     "name": "stdout",
     "output_type": "stream",
     "text": [
      "a is NOT greater than b\n"
     ]
    }
   ],
   "source": [
    "a = 33\n",
    "b = 200\n",
    "if not a > b:\n",
    "  print(\"a is NOT greater than b\")"
   ]
  },
  {
   "cell_type": "markdown",
   "id": "0cd06701-9b0d-4a82-aef7-ae809947292b",
   "metadata": {},
   "source": [
    "#### Analisis\n",
    "Operator not\n",
    "Kata kunci not adalah operator logika, dan digunakan untuk membalikkan hasil pernyataan kondisional.\n",
    "\n",
    "Contoh\n",
    "Uji apakah a TIDAK lebih besar dari b"
   ]
  },
  {
   "cell_type": "code",
   "execution_count": 113,
   "id": "cffb9936-13ee-4c4d-8e92-364eba38dac9",
   "metadata": {},
   "outputs": [
    {
     "name": "stdout",
     "output_type": "stream",
     "text": [
      "Discount applies!\n"
     ]
    }
   ],
   "source": [
    "age = 25\n",
    "is_student = False\n",
    "has_discount_code = True\n",
    "\n",
    "if (age < 18 or age > 65) and not is_student or has_discount_code:\n",
    "  print(\"Discount applies!\")"
   ]
  },
  {
   "cell_type": "markdown",
   "id": "d0d1dcd6-0199-415d-9a44-041bfc048632",
   "metadata": {},
   "source": [
    "#### Analisis\n",
    "Menggabungkan Beberapa Operator\n",
    "Anda dapat menggabungkan beberapa operator logika dalam satu ekspresi. Python mengevaluasi bukan pertama, lalu dan, lalu atau.\n",
    "\n",
    "Contoh\n",
    "Menggabungkan dan, atau, dan bukan"
   ]
  },
  {
   "cell_type": "code",
   "execution_count": 114,
   "id": "bb0d8732-cf4d-4776-ac10-4b588edc64c7",
   "metadata": {},
   "outputs": [
    {
     "name": "stdout",
     "output_type": "stream",
     "text": [
      "Great day for outdoor activities!\n"
     ]
    }
   ],
   "source": [
    "temperature = 25\n",
    "is_raining = False\n",
    "is_weekend = True\n",
    "\n",
    "if (temperature > 20 and not is_raining) or is_weekend:\n",
    "  print(\"Great day for outdoor activities!\")"
   ]
  },
  {
   "cell_type": "markdown",
   "id": "8a95569c-2707-4ce4-bcf9-5430d4e763b2",
   "metadata": {},
   "source": [
    "#### Analisis\n",
    "Menggunakan Tanda Kurung untuk Kejelasan\n",
    "Saat menggabungkan beberapa operator logika, gunakan tanda kurung untuk memperjelas maksud Anda dan mengontrol urutan evaluasi.\n",
    "\n",
    "Contoh\n",
    "Menggunakan tanda kurung untuk kondisi kompleks"
   ]
  },
  {
   "cell_type": "code",
   "execution_count": 115,
   "id": "9ead7c13-8899-4421-ac3d-492e523a7678",
   "metadata": {},
   "outputs": [
    {
     "name": "stdout",
     "output_type": "stream",
     "text": [
      "Login successful\n"
     ]
    }
   ],
   "source": [
    "username = \"Tobias\"\n",
    "password = \"secret123\"\n",
    "is_verified = True\n",
    "\n",
    "if username and password and is_verified:\n",
    "  print(\"Login successful\")\n",
    "else:\n",
    "  print(\"Login failed\")"
   ]
  },
  {
   "cell_type": "markdown",
   "id": "ece2d3ed-f1db-4c3c-bbc3-e7d0b3b96a9e",
   "metadata": {},
   "source": [
    "#### Analisis\n",
    "Pemeriksaan otentikasi pengguna"
   ]
  },
  {
   "cell_type": "code",
   "execution_count": 116,
   "id": "a5f37295-8ac7-4ae6-ba59-f71db81746d1",
   "metadata": {},
   "outputs": [
    {
     "name": "stdout",
     "output_type": "stream",
     "text": [
      "Valid score\n"
     ]
    }
   ],
   "source": [
    "score = 85\n",
    "\n",
    "if score >= 0 and score <= 100:\n",
    "  print(\"Valid score\")\n",
    "else:\n",
    "  print(\"Invalid score\")"
   ]
  },
  {
   "cell_type": "markdown",
   "id": "9f5eebfc-f428-4a79-88ed-28d9dfafeaea",
   "metadata": {},
   "source": [
    "#### Analisis\n",
    "Pemeriksaan rentang dengan operator logika"
   ]
  },
  {
   "cell_type": "markdown",
   "id": "9aeee9fc-07db-4dda-a128-969a4b39e0bf",
   "metadata": {},
   "source": [
    "## Python Nested If"
   ]
  },
  {
   "cell_type": "code",
   "execution_count": 117,
   "id": "866c411c-1721-4aec-8765-f3e6e38db781",
   "metadata": {},
   "outputs": [
    {
     "name": "stdout",
     "output_type": "stream",
     "text": [
      "Above ten,\n",
      "and also above 20!\n"
     ]
    }
   ],
   "source": [
    "x = 41\n",
    "\n",
    "if x > 10:\n",
    "  print(\"Above ten,\")\n",
    "  if x > 20:\n",
    "    print(\"and also above 20!\")\n",
    "  else:\n",
    "    print(\"but not above 20.\")"
   ]
  },
  {
   "cell_type": "markdown",
   "id": "52dfa16b-5e1e-4cb1-b149-732d2d7756cf",
   "metadata": {},
   "source": [
    "#### Analisis\n",
    "Pernyataan If Bersarang\n",
    "Anda dapat memiliki pernyataan if di dalam pernyataan if. Ini disebut pernyataan if bersarang.\n",
    "\n",
    "Dalam contoh ini, pernyataan if dalam hanya berjalan jika kondisi luar (x > 10) benar."
   ]
  },
  {
   "cell_type": "code",
   "execution_count": 118,
   "id": "baff930b-2962-416e-9bb1-f36f04f79e48",
   "metadata": {},
   "outputs": [
    {
     "name": "stdout",
     "output_type": "stream",
     "text": [
      "You can drive\n"
     ]
    }
   ],
   "source": [
    "age = 25\n",
    "has_license = True\n",
    "\n",
    "if age >= 18:\n",
    "  if has_license:\n",
    "    print(\"You can drive\")\n",
    "  else:\n",
    "    print(\"You need a license\")\n",
    "else:\n",
    "  print(\"You are too young to drive\")"
   ]
  },
  {
   "cell_type": "markdown",
   "id": "e4b42ce2-ed6e-4cfa-9801-2501ae6b131c",
   "metadata": {},
   "source": [
    "#### Analisis\n",
    "Cara Kerja Nested If\n",
    "Setiap tingkat nested if menciptakan tingkat pengambilan keputusan yang lebih mendalam. Kode mengevaluasi dari kondisi terluar ke dalam.\n",
    "\n",
    "Contoh\n",
    "Memeriksa beberapa kondisi dengan nested if"
   ]
  },
  {
   "cell_type": "code",
   "execution_count": 119,
   "id": "95bea660-17c6-4197-bfee-2d9748025486",
   "metadata": {},
   "outputs": [
    {
     "name": "stdout",
     "output_type": "stream",
     "text": [
      "Pass with good standing\n"
     ]
    }
   ],
   "source": [
    "score = 85\n",
    "attendance = 90\n",
    "submitted = True\n",
    "\n",
    "if score >= 60:\n",
    "  if attendance >= 80:\n",
    "    if submitted:\n",
    "      print(\"Pass with good standing\")\n",
    "    else:\n",
    "      print(\"Pass but missing assignment\")\n",
    "  else:\n",
    "    print(\"Pass but low attendance\")\n",
    "else:\n",
    "  print(\"Fail\")"
   ]
  },
  {
   "cell_type": "markdown",
   "id": "05497fe6-2e03-4939-b64d-39187a71ba13",
   "metadata": {},
   "source": [
    "#### Analisis\n",
    "Beberapa Tingkatan Nesting\n",
    "Anda dapat membuat nesting sedalam mungkin, tetapi perlu diingat bahwa terlalu banyak tingkatan dapat membuat kode lebih sulit dibaca.\n",
    "\n",
    "Contoh\n",
    "Tiga tingkatan nesting"
   ]
  },
  {
   "cell_type": "code",
   "execution_count": 120,
   "id": "354d2ec4-9c7a-429d-92a1-7a705b98679c",
   "metadata": {},
   "outputs": [
    {
     "name": "stdout",
     "output_type": "stream",
     "text": [
      "Perfect beach weather!\n"
     ]
    }
   ],
   "source": [
    "temperature = 25\n",
    "is_sunny = True\n",
    "\n",
    "if temperature > 20:\n",
    "  if is_sunny:\n",
    "    print(\"Perfect beach weather!\")"
   ]
  },
  {
   "cell_type": "markdown",
   "id": "d69a38ca-770a-4098-913e-5c108e9df42b",
   "metadata": {},
   "source": [
    "#### Analisis\n",
    "Operator If Bersarang vs. Operator Logika\n",
    "Terkadang pernyataan if bersarang dapat disederhanakan menggunakan operator logika seperti dan. Pilihannya tergantung pada logika Anda.\n",
    "\n",
    "Contoh\n",
    "If bersarang ini"
   ]
  },
  {
   "cell_type": "code",
   "execution_count": 121,
   "id": "22d7794c-1ae8-42d7-9c38-6b12504551e1",
   "metadata": {},
   "outputs": [
    {
     "name": "stdout",
     "output_type": "stream",
     "text": [
      "Perfect beach weather!\n"
     ]
    }
   ],
   "source": [
    "temperature = 25\n",
    "is_sunny = True\n",
    "\n",
    "if temperature > 20 and is_sunny:\n",
    "  print(\"Perfect beach weather!\")"
   ]
  },
  {
   "cell_type": "markdown",
   "id": "03bc52e8-75ef-4260-a30b-250e538216db",
   "metadata": {},
   "source": [
    "#### Analisis\n",
    "Contoh\n",
    "Bisa juga ditulis dengan and\n",
    "\n",
    "Kedua pendekatan menghasilkan hasil yang sama. Gunakan pernyataan if bersarang ketika logika internal kompleks atau bergantung pada kondisi eksternal. Gunakan dan ketika kedua kondisi sederhana dan sama pentingnya."
   ]
  },
  {
   "cell_type": "code",
   "execution_count": 122,
   "id": "fd58c788-2333-4129-a792-df58ff35cb38",
   "metadata": {},
   "outputs": [
    {
     "name": "stdout",
     "output_type": "stream",
     "text": [
      "Login successful\n"
     ]
    }
   ],
   "source": [
    "username = \"Emil\"\n",
    "password = \"python123\"\n",
    "is_active = True\n",
    "\n",
    "if username:\n",
    "  if password:\n",
    "    if is_active:\n",
    "      print(\"Login successful\")\n",
    "    else:\n",
    "      print(\"Account is not active\")\n",
    "  else:\n",
    "    print(\"Password required\")\n",
    "else:\n",
    "  print(\"Username required\")"
   ]
  },
  {
   "cell_type": "markdown",
   "id": "4d7f6ceb-3176-4963-983d-b6be4eec33d4",
   "metadata": {},
   "source": [
    "#### Analisis\n",
    "Validasi login dengan pemeriksaan bersarang"
   ]
  },
  {
   "cell_type": "code",
   "execution_count": 123,
   "id": "fdfd80e7-9149-4a47-a759-946830c97f30",
   "metadata": {},
   "outputs": [
    {
     "name": "stdout",
     "output_type": "stream",
     "text": [
      "A+ grade\n"
     ]
    }
   ],
   "source": [
    "score = 92\n",
    "extra_credit = 5\n",
    "\n",
    "if score >= 90:\n",
    "  if extra_credit > 0:\n",
    "    print(\"A+ grade\")\n",
    "  else:\n",
    "    print(\"A grade\")\n",
    "elif score >= 80:\n",
    "  print(\"B grade\")\n",
    "else:\n",
    "  print(\"C grade or below\")"
   ]
  },
  {
   "cell_type": "markdown",
   "id": "ec8f865d-9f1e-4527-9e50-94b104bd1e5b",
   "metadata": {},
   "source": [
    "#### Analisis\n",
    "Perhitungan nilai dengan logika bersarang"
   ]
  },
  {
   "cell_type": "markdown",
   "id": "8399b430-c677-4b45-ad11-1e617ff13ee4",
   "metadata": {},
   "source": [
    "## Python Pass Statement"
   ]
  },
  {
   "cell_type": "code",
   "execution_count": 124,
   "id": "dac63473-e903-4c4f-9b7b-a5b0100da48e",
   "metadata": {},
   "outputs": [],
   "source": [
    "a = 33\n",
    "b = 200\n",
    "\n",
    "if b > a:\n",
    "  pass"
   ]
  },
  {
   "cell_type": "markdown",
   "id": "55c8a408-91f8-4f8f-957b-31a8efe38e10",
   "metadata": {},
   "source": [
    "#### Analisis\n",
    "Pernyataan pass\n",
    "Pernyataan if tidak boleh kosong, tetapi jika karena suatu alasan Anda memiliki pernyataan if tanpa konten, masukkan pernyataan pass untuk menghindari kesalahan.\n",
    "\n",
    "Pernyataan \"pass\" adalah operasi null - tidak terjadi apa-apa saat dijalankan. Pernyataan ini berfungsi sebagai pengganti."
   ]
  },
  {
   "cell_type": "code",
   "execution_count": 125,
   "id": "bfc37ade-f16e-4698-bbea-2365e5cdf241",
   "metadata": {},
   "outputs": [],
   "source": [
    "age = 16\n",
    "\n",
    "if age < 18:\n",
    "  pass # TODO: Add underage logic later\n",
    "else:\n",
    "  print(\"Access granted\")"
   ]
  },
  {
   "cell_type": "markdown",
   "id": "27df100d-74ef-4bc2-ad32-578b902fe1f6",
   "metadata": {},
   "source": [
    "#### Analisis\n",
    "Mengapa Menggunakan pass?\n",
    "Pernyataan pass berguna dalam beberapa situasi:\n",
    "\n",
    "Saat Anda membuat struktur kode tetapi belum mengimplementasikan logikanya\n",
    "Saat suatu pernyataan diperlukan secara sintaksis tetapi tidak ada tindakan yang diperlukan\n",
    "Sebagai pengganti kode di masa mendatang selama pengembangan\n",
    "Dalam fungsi atau kelas kosong yang akan Anda implementasikan nanti\n",
    "pass dalam Pengembangan\n",
    "Selama pengembangan, Anda mungkin ingin membuat sketsa struktur program Anda sebelum mengimplementasikan detailnya. Pernyataan pass memungkinkan Anda melakukan ini tanpa kesalahan sintaksis.\n",
    "\n",
    "Contoh\n",
    "Pengganti untuk implementasi di masa mendatang"
   ]
  },
  {
   "cell_type": "code",
   "execution_count": 126,
   "id": "5cca0b0a-1896-460c-929a-47bd9895fce7",
   "metadata": {},
   "outputs": [
    {
     "name": "stdout",
     "output_type": "stream",
     "text": [
      "Score processed\n"
     ]
    }
   ],
   "source": [
    "score = 85\n",
    "\n",
    "if score > 90:\n",
    "  pass # This is excellent\n",
    "print(\"Score processed\")"
   ]
  },
  {
   "cell_type": "markdown",
   "id": "316fd383-be9d-41fa-8c8e-3e5a36b1ef75",
   "metadata": {},
   "source": [
    "#### Analisis\n",
    "Ini berfungsi dengan benar dengan pass"
   ]
  },
  {
   "cell_type": "code",
   "execution_count": 127,
   "id": "b57f2d22-1d9f-476c-900f-a4b4e0347eb3",
   "metadata": {},
   "outputs": [
    {
     "name": "stdout",
     "output_type": "stream",
     "text": [
      "Positive value\n"
     ]
    }
   ],
   "source": [
    "value = 50\n",
    "\n",
    "if value < 0:\n",
    "  print(\"Negative value\")\n",
    "elif value == 0:\n",
    "  pass # Zero case - no action needed\n",
    "else:\n",
    "  print(\"Positive value\")"
   ]
  },
  {
   "cell_type": "markdown",
   "id": "f251a943-ef75-4baa-a8aa-36d8047fb431",
   "metadata": {},
   "source": [
    "#### Analisis\n",
    "pass dengan Beberapa Kondisi\n",
    "Anda dapat menggunakan pass di cabang mana pun dari pernyataan if-elif-else.\n",
    "\n",
    "Contoh\n",
    "Menggunakan pass di berbagai cabang"
   ]
  },
  {
   "cell_type": "code",
   "execution_count": 128,
   "id": "0b60fa14-fcb1-400e-bd8c-dcd44687544c",
   "metadata": {},
   "outputs": [],
   "source": [
    "def calculate_discount(price):\n",
    "  pass # TODO: Implement discount logic\n",
    "\n",
    "# Function exists but doesn't do anything yet"
   ]
  },
  {
   "cell_type": "markdown",
   "id": "14569bcd-b239-4649-9713-5eb752ea90a9",
   "metadata": {},
   "source": [
    "#### Analisis\n",
    "pass dalam Konteks Lain\n",
    "Meskipun kita fokus pada pass dengan pernyataan if di sini, pernyataan ini juga umum digunakan dengan loop, fungsi, dan kelas.\n",
    "\n",
    "Contoh\n",
    "Menggunakan pass dengan fungsi"
   ]
  },
  {
   "cell_type": "markdown",
   "id": "e7474498-760b-44b9-b700-fe00ed479956",
   "metadata": {},
   "source": [
    "## Python Match"
   ]
  },
  {
   "cell_type": "markdown",
   "id": "995d45e3-7f4f-45ad-aa2d-ba4370e50206",
   "metadata": {},
   "source": [
    "#### Note\n",
    "Pernyataan match digunakan untuk melakukan berbagai tindakan berdasarkan kondisi yang berbeda.\n",
    "\n",
    "Pernyataan Match Python\n",
    "Daripada menulis banyak pernyataan if..else, Anda dapat menggunakan pernyataan match.\n",
    "\n",
    "Pernyataan match memilih satu dari banyak blok kode yang akan dieksekusi.\n",
    "\n",
    "SyntaxGet your own Python Server\n",
    "match expression:\n",
    "  case x:\n",
    "    code block\n",
    "  case y:\n",
    "    code block\n",
    "  case z:\n",
    "    code block"
   ]
  },
  {
   "cell_type": "code",
   "execution_count": 130,
   "id": "fb28fa8c-19ad-4b3b-96f8-c7b3e2d48629",
   "metadata": {},
   "outputs": [
    {
     "name": "stdout",
     "output_type": "stream",
     "text": [
      "Thursday\n"
     ]
    }
   ],
   "source": [
    "day = 4\n",
    "match day:\n",
    "  case 1:\n",
    "    print(\"Monday\")\n",
    "  case 2:\n",
    "    print(\"Tuesday\")\n",
    "  case 3:\n",
    "    print(\"Wednesday\")\n",
    "  case 4:\n",
    "    print(\"Thursday\")\n",
    "  case 5:\n",
    "    print(\"Friday\")\n",
    "  case 6:\n",
    "    print(\"Saturday\")\n",
    "  case 7:\n",
    "    print(\"Sunday\")"
   ]
  },
  {
   "cell_type": "markdown",
   "id": "45b9291d-47bc-4591-8b3b-2011fcf94be8",
   "metadata": {},
   "source": [
    "#### Analisis\n",
    "Begini cara kerjanya:\n",
    "\n",
    "Ekspresi kecocokan dievaluasi sekali.\n",
    "Nilai ekspresi dibandingkan dengan nilai setiap kasus.\n",
    "Jika terdapat kecocokan, blok kode terkait akan dieksekusi.\n",
    "\n",
    "Contoh di atas ini menggunakan nomor hari kerja untuk mencetak nama hari kerja."
   ]
  },
  {
   "cell_type": "code",
   "execution_count": 131,
   "id": "b4795cb6-bb2a-49be-bd73-ec4c2fda3a02",
   "metadata": {},
   "outputs": [
    {
     "name": "stdout",
     "output_type": "stream",
     "text": [
      "Looking forward to the Weekend\n"
     ]
    }
   ],
   "source": [
    "day = 4\n",
    "match day:\n",
    "  case 6:\n",
    "    print(\"Today is Saturday\")\n",
    "  case 7:\n",
    "    print(\"Today is Sunday\")\n",
    "  case _:\n",
    "    print(\"Looking forward to the Weekend\")"
   ]
  },
  {
   "cell_type": "markdown",
   "id": "275cb7b8-c17e-4d7d-930d-8a5bae29a6c3",
   "metadata": {},
   "source": [
    "#### Analisis\n",
    "Nilai Default\n",
    "Gunakan karakter garis bawah _ sebagai nilai akhir jika Anda ingin blok kode dieksekusi ketika tidak ada kecocokan lain.\n",
    "\n",
    "Nilai _ akan selalu cocok, jadi penting untuk menempatkannya sebagai kasus terakhir agar berperilaku sebagai kasus default."
   ]
  },
  {
   "cell_type": "code",
   "execution_count": 132,
   "id": "8997bc4f-f6be-434f-b911-7a4a64ccaa8d",
   "metadata": {},
   "outputs": [
    {
     "name": "stdout",
     "output_type": "stream",
     "text": [
      "Today is a weekday\n"
     ]
    }
   ],
   "source": [
    "day = 4\n",
    "match day:\n",
    "  case 1 | 2 | 3 | 4 | 5:\n",
    "    print(\"Today is a weekday\")\n",
    "  case 6 | 7:\n",
    "    print(\"I love weekends!\")"
   ]
  },
  {
   "cell_type": "markdown",
   "id": "4d12177a-6537-42b9-9911-6aed083e4bf7",
   "metadata": {},
   "source": [
    "#### Analisis\n",
    "Gabungkan Nilai\n",
    "Gunakan karakter pipa | sebagai operator atau dalam evaluasi kasus untuk memeriksa kecocokan lebih dari satu nilai dalam satu kasus."
   ]
  },
  {
   "cell_type": "code",
   "execution_count": 133,
   "id": "6fea66b6-2875-4fb4-8f41-db6a19538336",
   "metadata": {},
   "outputs": [
    {
     "name": "stdout",
     "output_type": "stream",
     "text": [
      "A weekday in May\n"
     ]
    }
   ],
   "source": [
    "month = 5\n",
    "day = 4\n",
    "match day:\n",
    "  case 1 | 2 | 3 | 4 | 5 if month == 4:\n",
    "    print(\"A weekday in April\")\n",
    "  case 1 | 2 | 3 | 4 | 5 if month == 5:\n",
    "    print(\"A weekday in May\")\n",
    "  case _:\n",
    "    print(\"No match\")"
   ]
  },
  {
   "cell_type": "markdown",
   "id": "36b185de-b7bc-401d-92cb-eeeee77c53f1",
   "metadata": {},
   "source": [
    "#### Analisis\n",
    "Pernyataan If sebagai Penjaga\n",
    "Anda dapat menambahkan pernyataan if dalam evaluasi kasus sebagai pemeriksaan kondisi tambahan"
   ]
  }
 ],
 "metadata": {
  "kernelspec": {
   "display_name": "Python [conda env:base] *",
   "language": "python",
   "name": "conda-base-py"
  },
  "language_info": {
   "codemirror_mode": {
    "name": "ipython",
    "version": 3
   },
   "file_extension": ".py",
   "mimetype": "text/x-python",
   "name": "python",
   "nbconvert_exporter": "python",
   "pygments_lexer": "ipython3",
   "version": "3.13.5"
  }
 },
 "nbformat": 4,
 "nbformat_minor": 5
}
